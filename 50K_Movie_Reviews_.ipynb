{
 "cells": [
  {
   "cell_type": "markdown",
   "metadata": {
    "id": "DSf8I9f-6Uee"
   },
   "source": [
    "<div style=\"color:white;\n",
    "           display:fill;\n",
    "           border-radius:15px;\n",
    "           background-color:red;\n",
    "           font-size:150%;\n",
    "           font-family:#afd511;\n",
    "           letter-spacing:0.5px\">\n",
    "\n",
    "<h3 style=\"padding: 13px; color:white; text-align:center\"><b>IMDB Sentiment Analysis</b></h3>\n",
    "</div>"
   ]
  },
  {
   "cell_type": "markdown",
   "metadata": {
    "id": "YfnNDH7U6Uei"
   },
   "source": [
    "<CENTER><IMG SRC=\"https://www.kdnuggets.com/wp-content/uploads/mayo_sent_analysis_fastapi_transformers-0.jpg\"></CENTER>"
   ]
  },
  {
   "cell_type": "markdown",
   "metadata": {
    "id": "IlAdKe0d6Uei"
   },
   "source": [
    "## What is Sentiment Analysis?"
   ]
  },
  {
   "cell_type": "markdown",
   "metadata": {
    "id": "izttWL2k6Uej"
   },
   "source": [
    "*NLP stands for Natural Language Processing which is the task of mining the text and find out meaningful insights like Sentiments, Named Entity, Topics of Discussion and even Summary of the text.\n",
    "Sentiment analysis is a natural language processing technique used to determine whether data is positive, negative or neutral. Sentiment analysis is often performed on textual data to help businesses monitor brand and product sentiment in customer feedback, and understand customer needs.*"
   ]
  },
  {
   "cell_type": "markdown",
   "metadata": {
    "id": "IsPMO6SK6Uej"
   },
   "source": [
    "## About Dataset"
   ]
  },
  {
   "cell_type": "markdown",
   "metadata": {
    "id": "rNytq-iV6Uej"
   },
   "source": [
    "*IMDB dataset have 50K movie reviews for natural language processing or Text analytics. \n",
    "This is a dataset for binary sentiment classification. \n",
    "We have to built NLP model for So Sentiment Analysis which can predict the number of positive and negative reviews using either classification or deep learning algorithms.*"
   ]
  },
  {
   "cell_type": "markdown",
   "metadata": {
    "id": "TM97GSh96Uek"
   },
   "source": [
    "### Import Lib"
   ]
  },
  {
   "cell_type": "code",
   "execution_count": 2,
   "metadata": {
    "id": "pkct2inVJnFt"
   },
   "outputs": [],
   "source": [
    "import pandas as pd \n",
    "import numpy as np \n",
    "import seaborn as sns\n",
    "import matplotlib.pyplot as plt \n",
    "from nltk.tokenize import word_tokenize \n",
    "from nltk.corpus import stopwords \n",
    "import nltk\n",
    "from nltk.stem import WordNetLemmatizer \n",
    "from sklearn.feature_extraction.text import CountVectorizer \n",
    "from sklearn.feature_extraction.text import TfidfVectorizer\n",
    "from wordcloud import WordCloud\n",
    "import warnings\n",
    "warnings.filterwarnings('ignore')\n",
    "import re"
   ]
  },
  {
   "cell_type": "markdown",
   "metadata": {
    "id": "l5vklVTM6Uem"
   },
   "source": [
    "### Download nltk pckgs"
   ]
  },
  {
   "cell_type": "code",
   "execution_count": 3,
   "metadata": {
    "colab": {
     "base_uri": "https://localhost:8080/"
    },
    "id": "c-vOvaWVKN89",
    "outputId": "b712af13-8617-4958-8ae4-874e47e1f9d9"
   },
   "outputs": [
    {
     "name": "stderr",
     "output_type": "stream",
     "text": [
      "[nltk_data] Downloading package punkt to /root/nltk_data...\n",
      "[nltk_data]   Package punkt is already up-to-date!\n",
      "[nltk_data] Downloading package wordnet to /root/nltk_data...\n",
      "[nltk_data]   Package wordnet is already up-to-date!\n",
      "[nltk_data] Downloading package stopwords to /root/nltk_data...\n",
      "[nltk_data]   Package stopwords is already up-to-date!\n",
      "[nltk_data] Downloading package omw-1.4 to /root/nltk_data...\n",
      "[nltk_data]   Package omw-1.4 is already up-to-date!\n"
     ]
    },
    {
     "data": {
      "text/plain": [
       "True"
      ]
     },
     "execution_count": 3,
     "metadata": {},
     "output_type": "execute_result"
    }
   ],
   "source": [
    "# download some library which hold in nltk only first time\n",
    "nltk.download('punkt') #punctuation\n",
    "nltk.download('wordnet')#for lemmatization\n",
    "nltk.download('stopwords')#for stopwords corpus\n",
    "nltk.download('omw-1.4')"
   ]
  },
  {
   "cell_type": "markdown",
   "metadata": {
    "id": "ANxZFq6x6Uen"
   },
   "source": [
    "<div style=\"color:white;\n",
    "           display:fill;\n",
    "           border-radius:15px;\n",
    "           background-color:green;\n",
    "           font-size:120%;\n",
    "           font-family:#afd511;\n",
    "           letter-spacing:0.5px\">\n",
    "\n",
    "<h3 style=\"padding: 13px; color:white; text-align:center\"><b>Exploratory Data Analysis (EDA)</b></h3>\n",
    "</div>"
   ]
  },
  {
   "cell_type": "code",
   "execution_count": 4,
   "metadata": {
    "colab": {
     "base_uri": "https://localhost:8080/",
     "height": 424
    },
    "id": "tPOokwbeKOFV",
    "outputId": "5ced5fcc-91be-49dc-cdca-9fe1b778463c"
   },
   "outputs": [
    {
     "data": {
      "text/html": [
       "\n",
       "  <div id=\"df-55a919c4-fd78-44c0-9126-998880888639\">\n",
       "    <div class=\"colab-df-container\">\n",
       "      <div>\n",
       "<style scoped>\n",
       "    .dataframe tbody tr th:only-of-type {\n",
       "        vertical-align: middle;\n",
       "    }\n",
       "\n",
       "    .dataframe tbody tr th {\n",
       "        vertical-align: top;\n",
       "    }\n",
       "\n",
       "    .dataframe thead th {\n",
       "        text-align: right;\n",
       "    }\n",
       "</style>\n",
       "<table border=\"1\" class=\"dataframe\">\n",
       "  <thead>\n",
       "    <tr style=\"text-align: right;\">\n",
       "      <th></th>\n",
       "      <th>review</th>\n",
       "      <th>sentiment</th>\n",
       "    </tr>\n",
       "  </thead>\n",
       "  <tbody>\n",
       "    <tr>\n",
       "      <th>0</th>\n",
       "      <td>One of the other reviewers has mentioned that ...</td>\n",
       "      <td>positive</td>\n",
       "    </tr>\n",
       "    <tr>\n",
       "      <th>1</th>\n",
       "      <td>A wonderful little production. &lt;br /&gt;&lt;br /&gt;The...</td>\n",
       "      <td>positive</td>\n",
       "    </tr>\n",
       "    <tr>\n",
       "      <th>2</th>\n",
       "      <td>I thought this was a wonderful way to spend ti...</td>\n",
       "      <td>positive</td>\n",
       "    </tr>\n",
       "    <tr>\n",
       "      <th>3</th>\n",
       "      <td>Basically there's a family where a little boy ...</td>\n",
       "      <td>negative</td>\n",
       "    </tr>\n",
       "    <tr>\n",
       "      <th>4</th>\n",
       "      <td>Petter Mattei's \"Love in the Time of Money\" is...</td>\n",
       "      <td>positive</td>\n",
       "    </tr>\n",
       "    <tr>\n",
       "      <th>...</th>\n",
       "      <td>...</td>\n",
       "      <td>...</td>\n",
       "    </tr>\n",
       "    <tr>\n",
       "      <th>49995</th>\n",
       "      <td>I thought this movie did a down right good job...</td>\n",
       "      <td>positive</td>\n",
       "    </tr>\n",
       "    <tr>\n",
       "      <th>49996</th>\n",
       "      <td>Bad plot, bad dialogue, bad acting, idiotic di...</td>\n",
       "      <td>negative</td>\n",
       "    </tr>\n",
       "    <tr>\n",
       "      <th>49997</th>\n",
       "      <td>I am a Catholic taught in parochial elementary...</td>\n",
       "      <td>negative</td>\n",
       "    </tr>\n",
       "    <tr>\n",
       "      <th>49998</th>\n",
       "      <td>I'm going to have to disagree with the previou...</td>\n",
       "      <td>negative</td>\n",
       "    </tr>\n",
       "    <tr>\n",
       "      <th>49999</th>\n",
       "      <td>No one expects the Star Trek movies to be high...</td>\n",
       "      <td>negative</td>\n",
       "    </tr>\n",
       "  </tbody>\n",
       "</table>\n",
       "<p>50000 rows × 2 columns</p>\n",
       "</div>\n",
       "      <button class=\"colab-df-convert\" onclick=\"convertToInteractive('df-55a919c4-fd78-44c0-9126-998880888639')\"\n",
       "              title=\"Convert this dataframe to an interactive table.\"\n",
       "              style=\"display:none;\">\n",
       "        \n",
       "  <svg xmlns=\"http://www.w3.org/2000/svg\" height=\"24px\"viewBox=\"0 0 24 24\"\n",
       "       width=\"24px\">\n",
       "    <path d=\"M0 0h24v24H0V0z\" fill=\"none\"/>\n",
       "    <path d=\"M18.56 5.44l.94 2.06.94-2.06 2.06-.94-2.06-.94-.94-2.06-.94 2.06-2.06.94zm-11 1L8.5 8.5l.94-2.06 2.06-.94-2.06-.94L8.5 2.5l-.94 2.06-2.06.94zm10 10l.94 2.06.94-2.06 2.06-.94-2.06-.94-.94-2.06-.94 2.06-2.06.94z\"/><path d=\"M17.41 7.96l-1.37-1.37c-.4-.4-.92-.59-1.43-.59-.52 0-1.04.2-1.43.59L10.3 9.45l-7.72 7.72c-.78.78-.78 2.05 0 2.83L4 21.41c.39.39.9.59 1.41.59.51 0 1.02-.2 1.41-.59l7.78-7.78 2.81-2.81c.8-.78.8-2.07 0-2.86zM5.41 20L4 18.59l7.72-7.72 1.47 1.35L5.41 20z\"/>\n",
       "  </svg>\n",
       "      </button>\n",
       "      \n",
       "  <style>\n",
       "    .colab-df-container {\n",
       "      display:flex;\n",
       "      flex-wrap:wrap;\n",
       "      gap: 12px;\n",
       "    }\n",
       "\n",
       "    .colab-df-convert {\n",
       "      background-color: #E8F0FE;\n",
       "      border: none;\n",
       "      border-radius: 50%;\n",
       "      cursor: pointer;\n",
       "      display: none;\n",
       "      fill: #1967D2;\n",
       "      height: 32px;\n",
       "      padding: 0 0 0 0;\n",
       "      width: 32px;\n",
       "    }\n",
       "\n",
       "    .colab-df-convert:hover {\n",
       "      background-color: #E2EBFA;\n",
       "      box-shadow: 0px 1px 2px rgba(60, 64, 67, 0.3), 0px 1px 3px 1px rgba(60, 64, 67, 0.15);\n",
       "      fill: #174EA6;\n",
       "    }\n",
       "\n",
       "    [theme=dark] .colab-df-convert {\n",
       "      background-color: #3B4455;\n",
       "      fill: #D2E3FC;\n",
       "    }\n",
       "\n",
       "    [theme=dark] .colab-df-convert:hover {\n",
       "      background-color: #434B5C;\n",
       "      box-shadow: 0px 1px 3px 1px rgba(0, 0, 0, 0.15);\n",
       "      filter: drop-shadow(0px 1px 2px rgba(0, 0, 0, 0.3));\n",
       "      fill: #FFFFFF;\n",
       "    }\n",
       "  </style>\n",
       "\n",
       "      <script>\n",
       "        const buttonEl =\n",
       "          document.querySelector('#df-55a919c4-fd78-44c0-9126-998880888639 button.colab-df-convert');\n",
       "        buttonEl.style.display =\n",
       "          google.colab.kernel.accessAllowed ? 'block' : 'none';\n",
       "\n",
       "        async function convertToInteractive(key) {\n",
       "          const element = document.querySelector('#df-55a919c4-fd78-44c0-9126-998880888639');\n",
       "          const dataTable =\n",
       "            await google.colab.kernel.invokeFunction('convertToInteractive',\n",
       "                                                     [key], {});\n",
       "          if (!dataTable) return;\n",
       "\n",
       "          const docLinkHtml = 'Like what you see? Visit the ' +\n",
       "            '<a target=\"_blank\" href=https://colab.research.google.com/notebooks/data_table.ipynb>data table notebook</a>'\n",
       "            + ' to learn more about interactive tables.';\n",
       "          element.innerHTML = '';\n",
       "          dataTable['output_type'] = 'display_data';\n",
       "          await google.colab.output.renderOutput(dataTable, element);\n",
       "          const docLink = document.createElement('div');\n",
       "          docLink.innerHTML = docLinkHtml;\n",
       "          element.appendChild(docLink);\n",
       "        }\n",
       "      </script>\n",
       "    </div>\n",
       "  </div>\n",
       "  "
      ],
      "text/plain": [
       "                                                  review sentiment\n",
       "0      One of the other reviewers has mentioned that ...  positive\n",
       "1      A wonderful little production. <br /><br />The...  positive\n",
       "2      I thought this was a wonderful way to spend ti...  positive\n",
       "3      Basically there's a family where a little boy ...  negative\n",
       "4      Petter Mattei's \"Love in the Time of Money\" is...  positive\n",
       "...                                                  ...       ...\n",
       "49995  I thought this movie did a down right good job...  positive\n",
       "49996  Bad plot, bad dialogue, bad acting, idiotic di...  negative\n",
       "49997  I am a Catholic taught in parochial elementary...  negative\n",
       "49998  I'm going to have to disagree with the previou...  negative\n",
       "49999  No one expects the Star Trek movies to be high...  negative\n",
       "\n",
       "[50000 rows x 2 columns]"
      ]
     },
     "execution_count": 4,
     "metadata": {},
     "output_type": "execute_result"
    }
   ],
   "source": [
    "df=pd.read_csv(\"IMDB Dataset.csv\")\n",
    "df"
   ]
  },
  {
   "cell_type": "code",
   "execution_count": 5,
   "metadata": {
    "colab": {
     "base_uri": "https://localhost:8080/"
    },
    "id": "C24Q7BEcKOJN",
    "outputId": "f7da9d2b-7976-4f13-aacd-b4291bbd39bd"
   },
   "outputs": [
    {
     "data": {
      "text/plain": [
       "(50000, 2)"
      ]
     },
     "execution_count": 5,
     "metadata": {},
     "output_type": "execute_result"
    }
   ],
   "source": [
    "df.shape"
   ]
  },
  {
   "cell_type": "code",
   "execution_count": 6,
   "metadata": {
    "colab": {
     "base_uri": "https://localhost:8080/"
    },
    "id": "BLGbmZs0KOMU",
    "outputId": "f0af8ecb-b6ec-4d47-f87d-93c1303b0ccc"
   },
   "outputs": [
    {
     "data": {
      "text/plain": [
       "review       0\n",
       "sentiment    0\n",
       "dtype: int64"
      ]
     },
     "execution_count": 6,
     "metadata": {},
     "output_type": "execute_result"
    }
   ],
   "source": [
    "#check for null values\n",
    "df.isnull().sum()"
   ]
  },
  {
   "cell_type": "code",
   "execution_count": 7,
   "metadata": {
    "colab": {
     "base_uri": "https://localhost:8080/"
    },
    "id": "iez46nqYKOPt",
    "outputId": "ed3d5046-c5ff-4f87-ce14-fe7b638978f6"
   },
   "outputs": [
    {
     "data": {
      "text/plain": [
       "418"
      ]
     },
     "execution_count": 7,
     "metadata": {},
     "output_type": "execute_result"
    }
   ],
   "source": [
    "#check for duplicated values\n",
    "df.duplicated().sum()"
   ]
  },
  {
   "cell_type": "code",
   "execution_count": 8,
   "metadata": {
    "id": "aB-Bn3fiKOSk"
   },
   "outputs": [],
   "source": [
    "#drop duplicates\n",
    "df.drop_duplicates(inplace=True)\n",
    "df=df.reset_index()"
   ]
  },
  {
   "cell_type": "code",
   "execution_count": 9,
   "metadata": {
    "id": "DShhA1IUKgh1"
   },
   "outputs": [],
   "source": [
    "df.drop(\"index\",axis=1,inplace=True)"
   ]
  },
  {
   "cell_type": "code",
   "execution_count": 10,
   "metadata": {
    "colab": {
     "base_uri": "https://localhost:8080/",
     "height": 206
    },
    "id": "wbtIZQjtKglt",
    "outputId": "c2cd1de4-8894-4091-d12f-cb77f054df6e"
   },
   "outputs": [
    {
     "data": {
      "text/html": [
       "\n",
       "  <div id=\"df-04a4933c-6f65-4ba3-becf-1316a2af9ea6\">\n",
       "    <div class=\"colab-df-container\">\n",
       "      <div>\n",
       "<style scoped>\n",
       "    .dataframe tbody tr th:only-of-type {\n",
       "        vertical-align: middle;\n",
       "    }\n",
       "\n",
       "    .dataframe tbody tr th {\n",
       "        vertical-align: top;\n",
       "    }\n",
       "\n",
       "    .dataframe thead th {\n",
       "        text-align: right;\n",
       "    }\n",
       "</style>\n",
       "<table border=\"1\" class=\"dataframe\">\n",
       "  <thead>\n",
       "    <tr style=\"text-align: right;\">\n",
       "      <th></th>\n",
       "      <th>review</th>\n",
       "      <th>sentiment</th>\n",
       "    </tr>\n",
       "  </thead>\n",
       "  <tbody>\n",
       "    <tr>\n",
       "      <th>0</th>\n",
       "      <td>One of the other reviewers has mentioned that ...</td>\n",
       "      <td>positive</td>\n",
       "    </tr>\n",
       "    <tr>\n",
       "      <th>1</th>\n",
       "      <td>A wonderful little production. &lt;br /&gt;&lt;br /&gt;The...</td>\n",
       "      <td>positive</td>\n",
       "    </tr>\n",
       "    <tr>\n",
       "      <th>2</th>\n",
       "      <td>I thought this was a wonderful way to spend ti...</td>\n",
       "      <td>positive</td>\n",
       "    </tr>\n",
       "    <tr>\n",
       "      <th>3</th>\n",
       "      <td>Basically there's a family where a little boy ...</td>\n",
       "      <td>negative</td>\n",
       "    </tr>\n",
       "    <tr>\n",
       "      <th>4</th>\n",
       "      <td>Petter Mattei's \"Love in the Time of Money\" is...</td>\n",
       "      <td>positive</td>\n",
       "    </tr>\n",
       "  </tbody>\n",
       "</table>\n",
       "</div>\n",
       "      <button class=\"colab-df-convert\" onclick=\"convertToInteractive('df-04a4933c-6f65-4ba3-becf-1316a2af9ea6')\"\n",
       "              title=\"Convert this dataframe to an interactive table.\"\n",
       "              style=\"display:none;\">\n",
       "        \n",
       "  <svg xmlns=\"http://www.w3.org/2000/svg\" height=\"24px\"viewBox=\"0 0 24 24\"\n",
       "       width=\"24px\">\n",
       "    <path d=\"M0 0h24v24H0V0z\" fill=\"none\"/>\n",
       "    <path d=\"M18.56 5.44l.94 2.06.94-2.06 2.06-.94-2.06-.94-.94-2.06-.94 2.06-2.06.94zm-11 1L8.5 8.5l.94-2.06 2.06-.94-2.06-.94L8.5 2.5l-.94 2.06-2.06.94zm10 10l.94 2.06.94-2.06 2.06-.94-2.06-.94-.94-2.06-.94 2.06-2.06.94z\"/><path d=\"M17.41 7.96l-1.37-1.37c-.4-.4-.92-.59-1.43-.59-.52 0-1.04.2-1.43.59L10.3 9.45l-7.72 7.72c-.78.78-.78 2.05 0 2.83L4 21.41c.39.39.9.59 1.41.59.51 0 1.02-.2 1.41-.59l7.78-7.78 2.81-2.81c.8-.78.8-2.07 0-2.86zM5.41 20L4 18.59l7.72-7.72 1.47 1.35L5.41 20z\"/>\n",
       "  </svg>\n",
       "      </button>\n",
       "      \n",
       "  <style>\n",
       "    .colab-df-container {\n",
       "      display:flex;\n",
       "      flex-wrap:wrap;\n",
       "      gap: 12px;\n",
       "    }\n",
       "\n",
       "    .colab-df-convert {\n",
       "      background-color: #E8F0FE;\n",
       "      border: none;\n",
       "      border-radius: 50%;\n",
       "      cursor: pointer;\n",
       "      display: none;\n",
       "      fill: #1967D2;\n",
       "      height: 32px;\n",
       "      padding: 0 0 0 0;\n",
       "      width: 32px;\n",
       "    }\n",
       "\n",
       "    .colab-df-convert:hover {\n",
       "      background-color: #E2EBFA;\n",
       "      box-shadow: 0px 1px 2px rgba(60, 64, 67, 0.3), 0px 1px 3px 1px rgba(60, 64, 67, 0.15);\n",
       "      fill: #174EA6;\n",
       "    }\n",
       "\n",
       "    [theme=dark] .colab-df-convert {\n",
       "      background-color: #3B4455;\n",
       "      fill: #D2E3FC;\n",
       "    }\n",
       "\n",
       "    [theme=dark] .colab-df-convert:hover {\n",
       "      background-color: #434B5C;\n",
       "      box-shadow: 0px 1px 3px 1px rgba(0, 0, 0, 0.15);\n",
       "      filter: drop-shadow(0px 1px 2px rgba(0, 0, 0, 0.3));\n",
       "      fill: #FFFFFF;\n",
       "    }\n",
       "  </style>\n",
       "\n",
       "      <script>\n",
       "        const buttonEl =\n",
       "          document.querySelector('#df-04a4933c-6f65-4ba3-becf-1316a2af9ea6 button.colab-df-convert');\n",
       "        buttonEl.style.display =\n",
       "          google.colab.kernel.accessAllowed ? 'block' : 'none';\n",
       "\n",
       "        async function convertToInteractive(key) {\n",
       "          const element = document.querySelector('#df-04a4933c-6f65-4ba3-becf-1316a2af9ea6');\n",
       "          const dataTable =\n",
       "            await google.colab.kernel.invokeFunction('convertToInteractive',\n",
       "                                                     [key], {});\n",
       "          if (!dataTable) return;\n",
       "\n",
       "          const docLinkHtml = 'Like what you see? Visit the ' +\n",
       "            '<a target=\"_blank\" href=https://colab.research.google.com/notebooks/data_table.ipynb>data table notebook</a>'\n",
       "            + ' to learn more about interactive tables.';\n",
       "          element.innerHTML = '';\n",
       "          dataTable['output_type'] = 'display_data';\n",
       "          await google.colab.output.renderOutput(dataTable, element);\n",
       "          const docLink = document.createElement('div');\n",
       "          docLink.innerHTML = docLinkHtml;\n",
       "          element.appendChild(docLink);\n",
       "        }\n",
       "      </script>\n",
       "    </div>\n",
       "  </div>\n",
       "  "
      ],
      "text/plain": [
       "                                              review sentiment\n",
       "0  One of the other reviewers has mentioned that ...  positive\n",
       "1  A wonderful little production. <br /><br />The...  positive\n",
       "2  I thought this was a wonderful way to spend ti...  positive\n",
       "3  Basically there's a family where a little boy ...  negative\n",
       "4  Petter Mattei's \"Love in the Time of Money\" is...  positive"
      ]
     },
     "execution_count": 10,
     "metadata": {},
     "output_type": "execute_result"
    }
   ],
   "source": [
    "df.head()"
   ]
  },
  {
   "cell_type": "code",
   "execution_count": 11,
   "metadata": {
    "colab": {
     "base_uri": "https://localhost:8080/"
    },
    "id": "ASi-dfCoKgoc",
    "outputId": "36dec9db-9f68-4fd7-f374-b488e8a7a0dc"
   },
   "outputs": [
    {
     "data": {
      "text/plain": [
       "positive    24884\n",
       "negative    24698\n",
       "Name: sentiment, dtype: int64"
      ]
     },
     "execution_count": 11,
     "metadata": {},
     "output_type": "execute_result"
    }
   ],
   "source": [
    "df['sentiment'].value_counts()"
   ]
  },
  {
   "cell_type": "code",
   "execution_count": 12,
   "metadata": {
    "colab": {
     "base_uri": "https://localhost:8080/",
     "height": 265
    },
    "id": "08sfaYqgKgtM",
    "outputId": "adb49731-48ba-40b6-faf7-4ec58255211d"
   },
   "outputs": [
    {
     "data": {
      "image/png": "[encoded data removed]",
      "text/plain": [
       "<Figure size 432x288 with 1 Axes>"
      ]
     },
     "metadata": {
      "needs_background": "light"
     },
     "output_type": "display_data"
    }
   ],
   "source": [
    "sns.barplot(x=df['sentiment'].value_counts().index,y=df['sentiment'].value_counts(),data=df)\n",
    "plt.show()"
   ]
  },
  {
   "cell_type": "markdown",
   "metadata": {
    "id": "BkJmv75H6Ueq"
   },
   "source": [
    "#### As Data set is complete balance "
   ]
  },
  {
   "cell_type": "markdown",
   "metadata": {
    "id": "DVCQByex6Ueq"
   },
   "source": [
    "<div style=\"color:white;\n",
    "           display:fill;\n",
    "           border-radius:15px;\n",
    "           background-color:green;\n",
    "           font-size:120%;\n",
    "           font-family:#afd511;\n",
    "           letter-spacing:0.5px\">\n",
    "\n",
    "<h3 style=\"padding: 13px; color:white; text-align:center\"><b>Text Cleaning</b></h3>\n",
    "</div>"
   ]
  },
  {
   "cell_type": "markdown",
   "metadata": {
    "id": "ZB8NvaF86Ueq"
   },
   "source": [
    "### 1. Major Cleaning "
   ]
  },
  {
   "cell_type": "markdown",
   "metadata": {
    "id": "lMNxJQkO6Ueq"
   },
   "source": [
    "* Remove URLS\n",
    "* Remove HTMLS tags\n",
    "* Remove numbers\n",
    "* Remove emails\n",
    "* Remove emoi"
   ]
  },
  {
   "cell_type": "code",
   "execution_count": 13,
   "metadata": {
    "id": "X_-C0o2yKgxt"
   },
   "outputs": [],
   "source": [
    "#remove URLS \n",
    "def remove_urls(text):\n",
    "    url_pattern = re.compile(r'https?://\\S+|www\\.\\S+')\n",
    "    return url_pattern.sub(r'', text)\n",
    "\n",
    "#remove HTMLS tags\n",
    "def remove_html(text):\n",
    "    html_pattern = re.compile('<.*?>')\n",
    "    return html_pattern.sub(r'', text)\n",
    "\n",
    "#remove numbers\n",
    "def remove_numbers(text):\n",
    "    removed_numbers = text.replace(r'\\d+','')\n",
    "    return removed_numbers\n",
    "\n",
    "#remove emails \n",
    "def remove_emails(text):\n",
    "    no_emails = text.replace(r\"\\S*@\\S*\\s?\",'')\n",
    "    return no_emails\n",
    "\n",
    "#remove emoi\n",
    "def remove_emoji(string):\n",
    "    emoji_pattern = re.compile(\"[\"\n",
    "                           u\"\\U0001F600-\\U0001F64F\"  # emoticons\n",
    "                           u\"\\U0001F300-\\U0001F5FF\"  # symbols & pictographs\n",
    "                           u\"\\U0001F680-\\U0001F6FF\"  # transport & map symbols\n",
    "                           u\"\\U0001F1E0-\\U0001F1FF\"  # flags (iOS)\n",
    "                           u\"\\U00002702-\\U000027B0\"\n",
    "                           u\"\\U000024C2-\\U0001F251\"\n",
    "                           \"]+\", flags=re.UNICODE)\n",
    "    return emoji_pattern.sub(r'', string)\n",
    "\n",
    "#apply decontraction\n",
    "def decontraction(text):\n",
    "    text = re.sub(r\"won\\'t\", \" will not\", text)\n",
    "    text = re.sub(r\"won\\'t've\", \" will not have\", text)\n",
    "    text = re.sub(r\"can\\'t\", \" can not\", text)\n",
    "    text = re.sub(r\"don\\'t\", \" do not\", text)\n",
    "    text = re.sub(r\"did\\'t\", \" did not\", text)\n",
    "    text = re.sub(r\"would\\'t\", \" would not\", text)\n",
    "    text = re.sub(r\"ain\\'t\", \" are not\", text)\n",
    "    text = re.sub(r\"does\\'t\", \" does not\", text)\n",
    "    text = re.sub(r\"havn\\'t\", \" have not\", text)\n",
    "    text = re.sub(r\"is\\'t\", \" is not\", text)\n",
    "\n",
    "    text = re.sub(r\"can\\'t've\", \" can not have\", text)\n",
    "    text = re.sub(r\"ma\\'am\", \" madam\", text)\n",
    "    text = re.sub(r\"let\\'s\", \" let us\", text)\n",
    "    text = re.sub(r\"ain\\'t\", \" am not\", text)\n",
    "    text = re.sub(r\"shan\\'t\", \" shall not\", text)\n",
    "    text = re.sub(r\"sha\\n't\", \" shall not\", text)\n",
    "    text = re.sub(r\"o\\'clock\", \" of the clock\", text)\n",
    "    text = re.sub(r\"y\\'all\", \" you all\", text)\n",
    "    text = re.sub(r\"wasn\\'t\", \" was not\", text)\n",
    "    text = re.sub(r\" u \", \" you \", text)\n",
    "\n",
    "    text = re.sub(r\"n\\'t\", \" not\", text)\n",
    "    text = re.sub(r\"n\\'t've\", \" not have\", text)\n",
    "    text = re.sub(r\"\\'re\", \" are\", text)\n",
    "    text = re.sub(r\"\\'s\", \" is\", text)\n",
    "    text = re.sub(r\"\\'d\", \" would\", text)\n",
    "    text = re.sub(r\"\\'d've\", \" would have\", text)\n",
    "    text = re.sub(r\"\\'ll\", \" will\", text)\n",
    "    text = re.sub(r\"\\'ll've\", \" will have\", text)\n",
    "    text = re.sub(r\"\\'t\", \" not\", text)\n",
    "    text = re.sub(r\"\\'ve\", \" have\", text)\n",
    "    text = re.sub(r\"\\'m\", \" am\", text)\n",
    "    text = re.sub(r\"\\'re\", \" are\", text)\n",
    "    text = re.sub(r\"   \",\" \",text)\n",
    "    text = re.sub(r\"  \",\" \",text)\n",
    "    return text "
   ]
  },
  {
   "cell_type": "code",
   "execution_count": 14,
   "metadata": {
    "id": "tgIOK8ejKg0U"
   },
   "outputs": [],
   "source": [
    "#Call Function\n",
    "df['review'] = df['review'].apply(remove_urls)\n",
    "df['review'] = df['review'].apply(remove_html)\n",
    "df['review'] = df['review'].apply(remove_numbers)\n",
    "df['review'] = df['review'].apply(remove_emails)\n",
    "df['review'] = df['review'].apply(remove_emoji)\n",
    "df['review'] = df['review'].apply(decontraction)"
   ]
  },
  {
   "cell_type": "code",
   "execution_count": 15,
   "metadata": {
    "colab": {
     "base_uri": "https://localhost:8080/",
     "height": 424
    },
    "id": "NsTxibbPKg3E",
    "outputId": "00c1434a-03ed-41e5-b908-5dc2bea58ae4"
   },
   "outputs": [
    {
     "data": {
      "text/html": [
       "\n",
       "  <div id=\"df-1a83da06-3517-4890-b766-7bf5247dd472\">\n",
       "    <div class=\"colab-df-container\">\n",
       "      <div>\n",
       "<style scoped>\n",
       "    .dataframe tbody tr th:only-of-type {\n",
       "        vertical-align: middle;\n",
       "    }\n",
       "\n",
       "    .dataframe tbody tr th {\n",
       "        vertical-align: top;\n",
       "    }\n",
       "\n",
       "    .dataframe thead th {\n",
       "        text-align: right;\n",
       "    }\n",
       "</style>\n",
       "<table border=\"1\" class=\"dataframe\">\n",
       "  <thead>\n",
       "    <tr style=\"text-align: right;\">\n",
       "      <th></th>\n",
       "      <th>review</th>\n",
       "      <th>sentiment</th>\n",
       "    </tr>\n",
       "  </thead>\n",
       "  <tbody>\n",
       "    <tr>\n",
       "      <th>0</th>\n",
       "      <td>One of the other reviewers has mentioned that ...</td>\n",
       "      <td>positive</td>\n",
       "    </tr>\n",
       "    <tr>\n",
       "      <th>1</th>\n",
       "      <td>A wonderful little production. The filming tec...</td>\n",
       "      <td>positive</td>\n",
       "    </tr>\n",
       "    <tr>\n",
       "      <th>2</th>\n",
       "      <td>I thought this was a wonderful way to spend ti...</td>\n",
       "      <td>positive</td>\n",
       "    </tr>\n",
       "    <tr>\n",
       "      <th>3</th>\n",
       "      <td>Basically there is a family where a little boy...</td>\n",
       "      <td>negative</td>\n",
       "    </tr>\n",
       "    <tr>\n",
       "      <th>4</th>\n",
       "      <td>Petter Mattei is \"Love in the Time of Money\" i...</td>\n",
       "      <td>positive</td>\n",
       "    </tr>\n",
       "    <tr>\n",
       "      <th>...</th>\n",
       "      <td>...</td>\n",
       "      <td>...</td>\n",
       "    </tr>\n",
       "    <tr>\n",
       "      <th>49577</th>\n",
       "      <td>I thought this movie did a down right good job...</td>\n",
       "      <td>positive</td>\n",
       "    </tr>\n",
       "    <tr>\n",
       "      <th>49578</th>\n",
       "      <td>Bad plot, bad dialogue, bad acting, idiotic di...</td>\n",
       "      <td>negative</td>\n",
       "    </tr>\n",
       "    <tr>\n",
       "      <th>49579</th>\n",
       "      <td>I am a Catholic taught in parochial elementary...</td>\n",
       "      <td>negative</td>\n",
       "    </tr>\n",
       "    <tr>\n",
       "      <th>49580</th>\n",
       "      <td>I am going to have to disagree with the previo...</td>\n",
       "      <td>negative</td>\n",
       "    </tr>\n",
       "    <tr>\n",
       "      <th>49581</th>\n",
       "      <td>No one expects the Star Trek movies to be high...</td>\n",
       "      <td>negative</td>\n",
       "    </tr>\n",
       "  </tbody>\n",
       "</table>\n",
       "<p>49582 rows × 2 columns</p>\n",
       "</div>\n",
       "      <button class=\"colab-df-convert\" onclick=\"convertToInteractive('df-1a83da06-3517-4890-b766-7bf5247dd472')\"\n",
       "              title=\"Convert this dataframe to an interactive table.\"\n",
       "              style=\"display:none;\">\n",
       "        \n",
       "  <svg xmlns=\"http://www.w3.org/2000/svg\" height=\"24px\"viewBox=\"0 0 24 24\"\n",
       "       width=\"24px\">\n",
       "    <path d=\"M0 0h24v24H0V0z\" fill=\"none\"/>\n",
       "    <path d=\"M18.56 5.44l.94 2.06.94-2.06 2.06-.94-2.06-.94-.94-2.06-.94 2.06-2.06.94zm-11 1L8.5 8.5l.94-2.06 2.06-.94-2.06-.94L8.5 2.5l-.94 2.06-2.06.94zm10 10l.94 2.06.94-2.06 2.06-.94-2.06-.94-.94-2.06-.94 2.06-2.06.94z\"/><path d=\"M17.41 7.96l-1.37-1.37c-.4-.4-.92-.59-1.43-.59-.52 0-1.04.2-1.43.59L10.3 9.45l-7.72 7.72c-.78.78-.78 2.05 0 2.83L4 21.41c.39.39.9.59 1.41.59.51 0 1.02-.2 1.41-.59l7.78-7.78 2.81-2.81c.8-.78.8-2.07 0-2.86zM5.41 20L4 18.59l7.72-7.72 1.47 1.35L5.41 20z\"/>\n",
       "  </svg>\n",
       "      </button>\n",
       "      \n",
       "  <style>\n",
       "    .colab-df-container {\n",
       "      display:flex;\n",
       "      flex-wrap:wrap;\n",
       "      gap: 12px;\n",
       "    }\n",
       "\n",
       "    .colab-df-convert {\n",
       "      background-color: #E8F0FE;\n",
       "      border: none;\n",
       "      border-radius: 50%;\n",
       "      cursor: pointer;\n",
       "      display: none;\n",
       "      fill: #1967D2;\n",
       "      height: 32px;\n",
       "      padding: 0 0 0 0;\n",
       "      width: 32px;\n",
       "    }\n",
       "\n",
       "    .colab-df-convert:hover {\n",
       "      background-color: #E2EBFA;\n",
       "      box-shadow: 0px 1px 2px rgba(60, 64, 67, 0.3), 0px 1px 3px 1px rgba(60, 64, 67, 0.15);\n",
       "      fill: #174EA6;\n",
       "    }\n",
       "\n",
       "    [theme=dark] .colab-df-convert {\n",
       "      background-color: #3B4455;\n",
       "      fill: #D2E3FC;\n",
       "    }\n",
       "\n",
       "    [theme=dark] .colab-df-convert:hover {\n",
       "      background-color: #434B5C;\n",
       "      box-shadow: 0px 1px 3px 1px rgba(0, 0, 0, 0.15);\n",
       "      filter: drop-shadow(0px 1px 2px rgba(0, 0, 0, 0.3));\n",
       "      fill: #FFFFFF;\n",
       "    }\n",
       "  </style>\n",
       "\n",
       "      <script>\n",
       "        const buttonEl =\n",
       "          document.querySelector('#df-1a83da06-3517-4890-b766-7bf5247dd472 button.colab-df-convert');\n",
       "        buttonEl.style.display =\n",
       "          google.colab.kernel.accessAllowed ? 'block' : 'none';\n",
       "\n",
       "        async function convertToInteractive(key) {\n",
       "          const element = document.querySelector('#df-1a83da06-3517-4890-b766-7bf5247dd472');\n",
       "          const dataTable =\n",
       "            await google.colab.kernel.invokeFunction('convertToInteractive',\n",
       "                                                     [key], {});\n",
       "          if (!dataTable) return;\n",
       "\n",
       "          const docLinkHtml = 'Like what you see? Visit the ' +\n",
       "            '<a target=\"_blank\" href=https://colab.research.google.com/notebooks/data_table.ipynb>data table notebook</a>'\n",
       "            + ' to learn more about interactive tables.';\n",
       "          element.innerHTML = '';\n",
       "          dataTable['output_type'] = 'display_data';\n",
       "          await google.colab.output.renderOutput(dataTable, element);\n",
       "          const docLink = document.createElement('div');\n",
       "          docLink.innerHTML = docLinkHtml;\n",
       "          element.appendChild(docLink);\n",
       "        }\n",
       "      </script>\n",
       "    </div>\n",
       "  </div>\n",
       "  "
      ],
      "text/plain": [
       "                                                  review sentiment\n",
       "0      One of the other reviewers has mentioned that ...  positive\n",
       "1      A wonderful little production. The filming tec...  positive\n",
       "2      I thought this was a wonderful way to spend ti...  positive\n",
       "3      Basically there is a family where a little boy...  negative\n",
       "4      Petter Mattei is \"Love in the Time of Money\" i...  positive\n",
       "...                                                  ...       ...\n",
       "49577  I thought this movie did a down right good job...  positive\n",
       "49578  Bad plot, bad dialogue, bad acting, idiotic di...  negative\n",
       "49579  I am a Catholic taught in parochial elementary...  negative\n",
       "49580  I am going to have to disagree with the previo...  negative\n",
       "49581  No one expects the Star Trek movies to be high...  negative\n",
       "\n",
       "[49582 rows x 2 columns]"
      ]
     },
     "execution_count": 15,
     "metadata": {},
     "output_type": "execute_result"
    }
   ],
   "source": [
    "df"
   ]
  },
  {
   "cell_type": "code",
   "execution_count": 16,
   "metadata": {
    "id": "DQIAL3QqK-qW"
   },
   "outputs": [],
   "source": [
    "#2. Total No of Words\n",
    "df['num_words']=df['review'].apply(lambda x: len(str(x).split()))"
   ]
  },
  {
   "cell_type": "code",
   "execution_count": 17,
   "metadata": {
    "colab": {
     "base_uri": "https://localhost:8080/",
     "height": 424
    },
    "id": "c42Dv0VYK-ws",
    "outputId": "7dbf606b-3f20-4268-804b-8f97e8744fab"
   },
   "outputs": [
    {
     "data": {
      "text/html": [
       "\n",
       "  <div id=\"df-d9706db5-3d13-47e5-9079-a8b064774d7e\">\n",
       "    <div class=\"colab-df-container\">\n",
       "      <div>\n",
       "<style scoped>\n",
       "    .dataframe tbody tr th:only-of-type {\n",
       "        vertical-align: middle;\n",
       "    }\n",
       "\n",
       "    .dataframe tbody tr th {\n",
       "        vertical-align: top;\n",
       "    }\n",
       "\n",
       "    .dataframe thead th {\n",
       "        text-align: right;\n",
       "    }\n",
       "</style>\n",
       "<table border=\"1\" class=\"dataframe\">\n",
       "  <thead>\n",
       "    <tr style=\"text-align: right;\">\n",
       "      <th></th>\n",
       "      <th>review</th>\n",
       "      <th>sentiment</th>\n",
       "      <th>num_words</th>\n",
       "    </tr>\n",
       "  </thead>\n",
       "  <tbody>\n",
       "    <tr>\n",
       "      <th>0</th>\n",
       "      <td>One of the other reviewers has mentioned that ...</td>\n",
       "      <td>positive</td>\n",
       "      <td>307</td>\n",
       "    </tr>\n",
       "    <tr>\n",
       "      <th>1</th>\n",
       "      <td>A wonderful little production. The filming tec...</td>\n",
       "      <td>positive</td>\n",
       "      <td>158</td>\n",
       "    </tr>\n",
       "    <tr>\n",
       "      <th>2</th>\n",
       "      <td>I thought this was a wonderful way to spend ti...</td>\n",
       "      <td>positive</td>\n",
       "      <td>165</td>\n",
       "    </tr>\n",
       "    <tr>\n",
       "      <th>3</th>\n",
       "      <td>Basically there is a family where a little boy...</td>\n",
       "      <td>negative</td>\n",
       "      <td>135</td>\n",
       "    </tr>\n",
       "    <tr>\n",
       "      <th>4</th>\n",
       "      <td>Petter Mattei is \"Love in the Time of Money\" i...</td>\n",
       "      <td>positive</td>\n",
       "      <td>225</td>\n",
       "    </tr>\n",
       "    <tr>\n",
       "      <th>...</th>\n",
       "      <td>...</td>\n",
       "      <td>...</td>\n",
       "      <td>...</td>\n",
       "    </tr>\n",
       "    <tr>\n",
       "      <th>49577</th>\n",
       "      <td>I thought this movie did a down right good job...</td>\n",
       "      <td>positive</td>\n",
       "      <td>197</td>\n",
       "    </tr>\n",
       "    <tr>\n",
       "      <th>49578</th>\n",
       "      <td>Bad plot, bad dialogue, bad acting, idiotic di...</td>\n",
       "      <td>negative</td>\n",
       "      <td>108</td>\n",
       "    </tr>\n",
       "    <tr>\n",
       "      <th>49579</th>\n",
       "      <td>I am a Catholic taught in parochial elementary...</td>\n",
       "      <td>negative</td>\n",
       "      <td>232</td>\n",
       "    </tr>\n",
       "    <tr>\n",
       "      <th>49580</th>\n",
       "      <td>I am going to have to disagree with the previo...</td>\n",
       "      <td>negative</td>\n",
       "      <td>217</td>\n",
       "    </tr>\n",
       "    <tr>\n",
       "      <th>49581</th>\n",
       "      <td>No one expects the Star Trek movies to be high...</td>\n",
       "      <td>negative</td>\n",
       "      <td>129</td>\n",
       "    </tr>\n",
       "  </tbody>\n",
       "</table>\n",
       "<p>49582 rows × 3 columns</p>\n",
       "</div>\n",
       "      <button class=\"colab-df-convert\" onclick=\"convertToInteractive('df-d9706db5-3d13-47e5-9079-a8b064774d7e')\"\n",
       "              title=\"Convert this dataframe to an interactive table.\"\n",
       "              style=\"display:none;\">\n",
       "        \n",
       "  <svg xmlns=\"http://www.w3.org/2000/svg\" height=\"24px\"viewBox=\"0 0 24 24\"\n",
       "       width=\"24px\">\n",
       "    <path d=\"M0 0h24v24H0V0z\" fill=\"none\"/>\n",
       "    <path d=\"M18.56 5.44l.94 2.06.94-2.06 2.06-.94-2.06-.94-.94-2.06-.94 2.06-2.06.94zm-11 1L8.5 8.5l.94-2.06 2.06-.94-2.06-.94L8.5 2.5l-.94 2.06-2.06.94zm10 10l.94 2.06.94-2.06 2.06-.94-2.06-.94-.94-2.06-.94 2.06-2.06.94z\"/><path d=\"M17.41 7.96l-1.37-1.37c-.4-.4-.92-.59-1.43-.59-.52 0-1.04.2-1.43.59L10.3 9.45l-7.72 7.72c-.78.78-.78 2.05 0 2.83L4 21.41c.39.39.9.59 1.41.59.51 0 1.02-.2 1.41-.59l7.78-7.78 2.81-2.81c.8-.78.8-2.07 0-2.86zM5.41 20L4 18.59l7.72-7.72 1.47 1.35L5.41 20z\"/>\n",
       "  </svg>\n",
       "      </button>\n",
       "      \n",
       "  <style>\n",
       "    .colab-df-container {\n",
       "      display:flex;\n",
       "      flex-wrap:wrap;\n",
       "      gap: 12px;\n",
       "    }\n",
       "\n",
       "    .colab-df-convert {\n",
       "      background-color: #E8F0FE;\n",
       "      border: none;\n",
       "      border-radius: 50%;\n",
       "      cursor: pointer;\n",
       "      display: none;\n",
       "      fill: #1967D2;\n",
       "      height: 32px;\n",
       "      padding: 0 0 0 0;\n",
       "      width: 32px;\n",
       "    }\n",
       "\n",
       "    .colab-df-convert:hover {\n",
       "      background-color: #E2EBFA;\n",
       "      box-shadow: 0px 1px 2px rgba(60, 64, 67, 0.3), 0px 1px 3px 1px rgba(60, 64, 67, 0.15);\n",
       "      fill: #174EA6;\n",
       "    }\n",
       "\n",
       "    [theme=dark] .colab-df-convert {\n",
       "      background-color: #3B4455;\n",
       "      fill: #D2E3FC;\n",
       "    }\n",
       "\n",
       "    [theme=dark] .colab-df-convert:hover {\n",
       "      background-color: #434B5C;\n",
       "      box-shadow: 0px 1px 3px 1px rgba(0, 0, 0, 0.15);\n",
       "      filter: drop-shadow(0px 1px 2px rgba(0, 0, 0, 0.3));\n",
       "      fill: #FFFFFF;\n",
       "    }\n",
       "  </style>\n",
       "\n",
       "      <script>\n",
       "        const buttonEl =\n",
       "          document.querySelector('#df-d9706db5-3d13-47e5-9079-a8b064774d7e button.colab-df-convert');\n",
       "        buttonEl.style.display =\n",
       "          google.colab.kernel.accessAllowed ? 'block' : 'none';\n",
       "\n",
       "        async function convertToInteractive(key) {\n",
       "          const element = document.querySelector('#df-d9706db5-3d13-47e5-9079-a8b064774d7e');\n",
       "          const dataTable =\n",
       "            await google.colab.kernel.invokeFunction('convertToInteractive',\n",
       "                                                     [key], {});\n",
       "          if (!dataTable) return;\n",
       "\n",
       "          const docLinkHtml = 'Like what you see? Visit the ' +\n",
       "            '<a target=\"_blank\" href=https://colab.research.google.com/notebooks/data_table.ipynb>data table notebook</a>'\n",
       "            + ' to learn more about interactive tables.';\n",
       "          element.innerHTML = '';\n",
       "          dataTable['output_type'] = 'display_data';\n",
       "          await google.colab.output.renderOutput(dataTable, element);\n",
       "          const docLink = document.createElement('div');\n",
       "          docLink.innerHTML = docLinkHtml;\n",
       "          element.appendChild(docLink);\n",
       "        }\n",
       "      </script>\n",
       "    </div>\n",
       "  </div>\n",
       "  "
      ],
      "text/plain": [
       "                                                  review sentiment  num_words\n",
       "0      One of the other reviewers has mentioned that ...  positive        307\n",
       "1      A wonderful little production. The filming tec...  positive        158\n",
       "2      I thought this was a wonderful way to spend ti...  positive        165\n",
       "3      Basically there is a family where a little boy...  negative        135\n",
       "4      Petter Mattei is \"Love in the Time of Money\" i...  positive        225\n",
       "...                                                  ...       ...        ...\n",
       "49577  I thought this movie did a down right good job...  positive        197\n",
       "49578  Bad plot, bad dialogue, bad acting, idiotic di...  negative        108\n",
       "49579  I am a Catholic taught in parochial elementary...  negative        232\n",
       "49580  I am going to have to disagree with the previo...  negative        217\n",
       "49581  No one expects the Star Trek movies to be high...  negative        129\n",
       "\n",
       "[49582 rows x 3 columns]"
      ]
     },
     "execution_count": 17,
     "metadata": {},
     "output_type": "execute_result"
    }
   ],
   "source": [
    "df"
   ]
  },
  {
   "cell_type": "markdown",
   "metadata": {
    "id": "oHInXd8f6Ues"
   },
   "source": [
    "### 2. Fine Cleaning "
   ]
  },
  {
   "cell_type": "markdown",
   "metadata": {
    "id": "xrWoKaR_6Ues"
   },
   "source": [
    "* Convert text into Lower case\n",
    "* Word_tokenize\n",
    "* Remove punctuation and Stopwords\n",
    "* Remove Specials Characters\n",
    "* Lamatization\n",
    "* Return text"
   ]
  },
  {
   "cell_type": "code",
   "execution_count": 18,
   "metadata": {
    "id": "3UIXLSdBlNji"
   },
   "outputs": [],
   "source": [
    "lst=['ain', 'aren', \"aren't\", 'couldn', \"couldn't\", 'didn', \"didn't\", 'doesn', \"doesn't\", 'hadn', \"hadn't\", 'hasn', \"hasn't\", 'haven', \"haven't\", 'isn', \"isn't\",'mightn', \"mightn't\", 'mustn', \"mustn't\", 'needn', \"needn't\", 'shan', \"shan't\", 'shouldn', \"shouldn't\", 'wasn', \"wasn't\", 'weren', \"weren't\", \"won't\", 'wouldn', \"wouldn't\",\n",
    "'are not','could not','would not','did not','does not','did not','was not','wasnt','does not','had not','have not','is not','might not','must not','need not','shall not','was not','no so','had not','wont',\"won't\",'do not','is not','isnt',\"isn't\",'not','never','am not']"
   ]
  },
  {
   "cell_type": "code",
   "execution_count": 19,
   "metadata": {
    "id": "Arq_avqGK-zk"
   },
   "outputs": [],
   "source": [
    "def clean_text(text):\n",
    "    #1. convert text into lower case\n",
    "    text=text.lower()\n",
    "    \n",
    "    #2. Replace All negative words by not  \n",
    "    lst1=set(lst)\n",
    "    for i in lst1:\n",
    "        if i in text:\n",
    "            text=text.replace(i,'not')\n",
    "            text=re.sub(r'not\\'t', 'not',text)\n",
    "            text = re.sub(r\"  \",\" \",text)\n",
    "    \n",
    "    #2.word_tokenize\n",
    "    text=text.strip()\n",
    "    text=word_tokenize(text)\n",
    "    \n",
    "    #3.remove negativity from stopwords\n",
    "    sw=stopwords.words('english')\n",
    "    unwanted_ele=set(lst)\n",
    "    updated_sw = [ele for ele in sw if ele not in unwanted_ele]\n",
    "    \n",
    "    #3.remove punctuation and stopwords\n",
    "    words=updated_sw+list(string.punctuation)+list([\"would\",\"could\",\"should\",\"will\",\"have\",\"had\"])\n",
    "    text=[word for word in text if word not in words]\n",
    "    \n",
    "    #4. use only spcl characters consider only alphbets\n",
    "    text=[word for word in text if word.isalpha() ==True]\n",
    "    \n",
    "    #5. apply lamatization to covert all plurals into singular\n",
    "    lemma=WordNetLemmatizer()\n",
    "    text=[lemma.lemmatize(word) for word in text]\n",
    "    #text=set(text)  #remove duplicates words\n",
    "    \n",
    "    #join text\n",
    "    text=' '.join(text)\n",
    "    \n",
    "    return text"
   ]
  },
  {
   "cell_type": "code",
   "execution_count": 20,
   "metadata": {
    "id": "q7eeQNPiK-2U"
   },
   "outputs": [],
   "source": [
    "import string\n",
    "#call function\n",
    "df['review']=df['review'].apply(clean_text)"
   ]
  },
  {
   "cell_type": "code",
   "execution_count": 21,
   "metadata": {
    "id": "uPqQQ2C9Kg7V"
   },
   "outputs": [],
   "source": [
    "#2. Total No of Words\n",
    "df['num_words_clean']=df['review'].apply(lambda x: len(str(x).split()))"
   ]
  },
  {
   "cell_type": "code",
   "execution_count": 22,
   "metadata": {
    "colab": {
     "base_uri": "https://localhost:8080/",
     "height": 424
    },
    "id": "oeJpXPqEMcoF",
    "outputId": "d54bafa8-de0f-4f62-ddc8-1a5668fbcd88"
   },
   "outputs": [
    {
     "data": {
      "text/html": [
       "\n",
       "  <div id=\"df-07577184-e4f4-4549-a39b-cf5a15196137\">\n",
       "    <div class=\"colab-df-container\">\n",
       "      <div>\n",
       "<style scoped>\n",
       "    .dataframe tbody tr th:only-of-type {\n",
       "        vertical-align: middle;\n",
       "    }\n",
       "\n",
       "    .dataframe tbody tr th {\n",
       "        vertical-align: top;\n",
       "    }\n",
       "\n",
       "    .dataframe thead th {\n",
       "        text-align: right;\n",
       "    }\n",
       "</style>\n",
       "<table border=\"1\" class=\"dataframe\">\n",
       "  <thead>\n",
       "    <tr style=\"text-align: right;\">\n",
       "      <th></th>\n",
       "      <th>review</th>\n",
       "      <th>sentiment</th>\n",
       "      <th>num_words</th>\n",
       "      <th>num_words_clean</th>\n",
       "    </tr>\n",
       "  </thead>\n",
       "  <tbody>\n",
       "    <tr>\n",
       "      <th>0</th>\n",
       "      <td>one reviewer mentioned watching oz episode hoo...</td>\n",
       "      <td>positive</td>\n",
       "      <td>307</td>\n",
       "      <td>165</td>\n",
       "    </tr>\n",
       "    <tr>\n",
       "      <th>1</th>\n",
       "      <td>wonderful little production filming technique ...</td>\n",
       "      <td>positive</td>\n",
       "      <td>158</td>\n",
       "      <td>83</td>\n",
       "    </tr>\n",
       "    <tr>\n",
       "      <th>2</th>\n",
       "      <td>thought wonderful way spend time hot summer we...</td>\n",
       "      <td>positive</td>\n",
       "      <td>165</td>\n",
       "      <td>82</td>\n",
       "    </tr>\n",
       "    <tr>\n",
       "      <th>3</th>\n",
       "      <td>basically family little boy jake think zombie ...</td>\n",
       "      <td>negative</td>\n",
       "      <td>135</td>\n",
       "      <td>60</td>\n",
       "    </tr>\n",
       "    <tr>\n",
       "      <th>4</th>\n",
       "      <td>petter mattei love time money visually stunnin...</td>\n",
       "      <td>positive</td>\n",
       "      <td>225</td>\n",
       "      <td>120</td>\n",
       "    </tr>\n",
       "    <tr>\n",
       "      <th>...</th>\n",
       "      <td>...</td>\n",
       "      <td>...</td>\n",
       "      <td>...</td>\n",
       "      <td>...</td>\n",
       "    </tr>\n",
       "    <tr>\n",
       "      <th>49577</th>\n",
       "      <td>thought movie right good job not creative orig...</td>\n",
       "      <td>positive</td>\n",
       "      <td>197</td>\n",
       "      <td>82</td>\n",
       "    </tr>\n",
       "    <tr>\n",
       "      <th>49578</th>\n",
       "      <td>bad plot bad dialogue bad acting idiotic direc...</td>\n",
       "      <td>negative</td>\n",
       "      <td>108</td>\n",
       "      <td>52</td>\n",
       "    </tr>\n",
       "    <tr>\n",
       "      <th>49579</th>\n",
       "      <td>catholic taught parochial elementary school nu...</td>\n",
       "      <td>negative</td>\n",
       "      <td>232</td>\n",
       "      <td>114</td>\n",
       "    </tr>\n",
       "    <tr>\n",
       "      <th>49580</th>\n",
       "      <td>going disagree previous comment side maltin on...</td>\n",
       "      <td>negative</td>\n",
       "      <td>217</td>\n",
       "      <td>112</td>\n",
       "    </tr>\n",
       "    <tr>\n",
       "      <th>49581</th>\n",
       "      <td>one expects star trek movie high art fan expec...</td>\n",
       "      <td>negative</td>\n",
       "      <td>129</td>\n",
       "      <td>66</td>\n",
       "    </tr>\n",
       "  </tbody>\n",
       "</table>\n",
       "<p>49582 rows × 4 columns</p>\n",
       "</div>\n",
       "      <button class=\"colab-df-convert\" onclick=\"convertToInteractive('df-07577184-e4f4-4549-a39b-cf5a15196137')\"\n",
       "              title=\"Convert this dataframe to an interactive table.\"\n",
       "              style=\"display:none;\">\n",
       "        \n",
       "  <svg xmlns=\"http://www.w3.org/2000/svg\" height=\"24px\"viewBox=\"0 0 24 24\"\n",
       "       width=\"24px\">\n",
       "    <path d=\"M0 0h24v24H0V0z\" fill=\"none\"/>\n",
       "    <path d=\"M18.56 5.44l.94 2.06.94-2.06 2.06-.94-2.06-.94-.94-2.06-.94 2.06-2.06.94zm-11 1L8.5 8.5l.94-2.06 2.06-.94-2.06-.94L8.5 2.5l-.94 2.06-2.06.94zm10 10l.94 2.06.94-2.06 2.06-.94-2.06-.94-.94-2.06-.94 2.06-2.06.94z\"/><path d=\"M17.41 7.96l-1.37-1.37c-.4-.4-.92-.59-1.43-.59-.52 0-1.04.2-1.43.59L10.3 9.45l-7.72 7.72c-.78.78-.78 2.05 0 2.83L4 21.41c.39.39.9.59 1.41.59.51 0 1.02-.2 1.41-.59l7.78-7.78 2.81-2.81c.8-.78.8-2.07 0-2.86zM5.41 20L4 18.59l7.72-7.72 1.47 1.35L5.41 20z\"/>\n",
       "  </svg>\n",
       "      </button>\n",
       "      \n",
       "  <style>\n",
       "    .colab-df-container {\n",
       "      display:flex;\n",
       "      flex-wrap:wrap;\n",
       "      gap: 12px;\n",
       "    }\n",
       "\n",
       "    .colab-df-convert {\n",
       "      background-color: #E8F0FE;\n",
       "      border: none;\n",
       "      border-radius: 50%;\n",
       "      cursor: pointer;\n",
       "      display: none;\n",
       "      fill: #1967D2;\n",
       "      height: 32px;\n",
       "      padding: 0 0 0 0;\n",
       "      width: 32px;\n",
       "    }\n",
       "\n",
       "    .colab-df-convert:hover {\n",
       "      background-color: #E2EBFA;\n",
       "      box-shadow: 0px 1px 2px rgba(60, 64, 67, 0.3), 0px 1px 3px 1px rgba(60, 64, 67, 0.15);\n",
       "      fill: #174EA6;\n",
       "    }\n",
       "\n",
       "    [theme=dark] .colab-df-convert {\n",
       "      background-color: #3B4455;\n",
       "      fill: #D2E3FC;\n",
       "    }\n",
       "\n",
       "    [theme=dark] .colab-df-convert:hover {\n",
       "      background-color: #434B5C;\n",
       "      box-shadow: 0px 1px 3px 1px rgba(0, 0, 0, 0.15);\n",
       "      filter: drop-shadow(0px 1px 2px rgba(0, 0, 0, 0.3));\n",
       "      fill: #FFFFFF;\n",
       "    }\n",
       "  </style>\n",
       "\n",
       "      <script>\n",
       "        const buttonEl =\n",
       "          document.querySelector('#df-07577184-e4f4-4549-a39b-cf5a15196137 button.colab-df-convert');\n",
       "        buttonEl.style.display =\n",
       "          google.colab.kernel.accessAllowed ? 'block' : 'none';\n",
       "\n",
       "        async function convertToInteractive(key) {\n",
       "          const element = document.querySelector('#df-07577184-e4f4-4549-a39b-cf5a15196137');\n",
       "          const dataTable =\n",
       "            await google.colab.kernel.invokeFunction('convertToInteractive',\n",
       "                                                     [key], {});\n",
       "          if (!dataTable) return;\n",
       "\n",
       "          const docLinkHtml = 'Like what you see? Visit the ' +\n",
       "            '<a target=\"_blank\" href=https://colab.research.google.com/notebooks/data_table.ipynb>data table notebook</a>'\n",
       "            + ' to learn more about interactive tables.';\n",
       "          element.innerHTML = '';\n",
       "          dataTable['output_type'] = 'display_data';\n",
       "          await google.colab.output.renderOutput(dataTable, element);\n",
       "          const docLink = document.createElement('div');\n",
       "          docLink.innerHTML = docLinkHtml;\n",
       "          element.appendChild(docLink);\n",
       "        }\n",
       "      </script>\n",
       "    </div>\n",
       "  </div>\n",
       "  "
      ],
      "text/plain": [
       "                                                  review sentiment  num_words  \\\n",
       "0      one reviewer mentioned watching oz episode hoo...  positive        307   \n",
       "1      wonderful little production filming technique ...  positive        158   \n",
       "2      thought wonderful way spend time hot summer we...  positive        165   \n",
       "3      basically family little boy jake think zombie ...  negative        135   \n",
       "4      petter mattei love time money visually stunnin...  positive        225   \n",
       "...                                                  ...       ...        ...   \n",
       "49577  thought movie right good job not creative orig...  positive        197   \n",
       "49578  bad plot bad dialogue bad acting idiotic direc...  negative        108   \n",
       "49579  catholic taught parochial elementary school nu...  negative        232   \n",
       "49580  going disagree previous comment side maltin on...  negative        217   \n",
       "49581  one expects star trek movie high art fan expec...  negative        129   \n",
       "\n",
       "       num_words_clean  \n",
       "0                  165  \n",
       "1                   83  \n",
       "2                   82  \n",
       "3                   60  \n",
       "4                  120  \n",
       "...                ...  \n",
       "49577               82  \n",
       "49578               52  \n",
       "49579              114  \n",
       "49580              112  \n",
       "49581               66  \n",
       "\n",
       "[49582 rows x 4 columns]"
      ]
     },
     "execution_count": 22,
     "metadata": {},
     "output_type": "execute_result"
    }
   ],
   "source": [
    "df"
   ]
  },
  {
   "cell_type": "markdown",
   "metadata": {
    "id": "xSaK91W26Uet"
   },
   "source": [
    "<div style=\"color:white;\n",
    "           display:fill;\n",
    "           border-radius:15px;\n",
    "           background-color:green;\n",
    "           font-size:120%;\n",
    "           font-family:#afd511;\n",
    "           letter-spacing:0.5px\">\n",
    "\n",
    "<h3 style=\"padding: 13px; color:white; text-align:center\"><b>Data Visualization</b></h3>\n",
    "</div>"
   ]
  },
  {
   "cell_type": "markdown",
   "metadata": {
    "id": "fFOb0bUe6Uet"
   },
   "source": [
    "### Avg Text Size for Positive and Negative Reviews"
   ]
  },
  {
   "cell_type": "code",
   "execution_count": 23,
   "metadata": {
    "colab": {
     "base_uri": "https://localhost:8080/",
     "height": 389
    },
    "id": "TCBprJx-LjEm",
    "outputId": "a29fdf91-e65a-41a9-bdfd-60dcddff2d06",
    "scrolled": false
   },
   "outputs": [
    {
     "data": {
      "image/png": "[encoded data removed]",
      "text/plain": [
       "<Figure size 864x432 with 1 Axes>"
      ]
     },
     "metadata": {
      "needs_background": "light"
     },
     "output_type": "display_data"
    }
   ],
   "source": [
    "#Hist Plot for Spam and Not Spam\n",
    "plt.figure(figsize=(12,6))\n",
    "sns.histplot(df[df['sentiment']=='positive']['num_words'],color='blue',bins=80)\n",
    "sns.histplot(df[df['sentiment']=='negative']['num_words'],color='red',bins=80)\n",
    "plt.show()"
   ]
  },
  {
   "cell_type": "markdown",
   "metadata": {
    "id": "KCU18cnM6Ueu"
   },
   "source": [
    "### WordCloud - Positive Reviews"
   ]
  },
  {
   "cell_type": "code",
   "execution_count": 24,
   "metadata": {
    "id": "3o2QzCzYLjHe"
   },
   "outputs": [],
   "source": [
    "from wordcloud import WordCloud,STOPWORDS"
   ]
  },
  {
   "cell_type": "code",
   "execution_count": 25,
   "metadata": {
    "colab": {
     "base_uri": "https://localhost:8080/",
     "height": 328
    },
    "id": "xeBJI-CzLjKm",
    "outputId": "ce0cbf89-45a0-436a-bf04-8e6e017a690f"
   },
   "outputs": [
    {
     "data": {
      "image/png": "[encoded data removed]",
      "text/plain": [
       "<Figure size 864x432 with 1 Axes>"
      ]
     },
     "metadata": {
      "needs_background": "light"
     },
     "output_type": "display_data"
    }
   ],
   "source": [
    "#WordCloud - Positive Review \n",
    "wc=WordCloud(width=1800,height=800,background_color='black',\n",
    "            min_font_size=20,\n",
    "            max_font_size=250,stopwords=STOPWORDS)\n",
    "wc.generate(''.join(df[df['sentiment']=='positive']['review']))\n",
    "plt.figure(figsize=(12,6))\n",
    "plt.imshow(wc)\n",
    "plt.axis('off')\n",
    "plt.show()"
   ]
  },
  {
   "cell_type": "markdown",
   "metadata": {
    "id": "8evHi8jj6Ueu"
   },
   "source": [
    "### WordCloud - Negative Reviews"
   ]
  },
  {
   "cell_type": "code",
   "execution_count": 26,
   "metadata": {
    "colab": {
     "base_uri": "https://localhost:8080/",
     "height": 328
    },
    "id": "QxY8tr9BLjNU",
    "outputId": "8c99f950-cec0-4e94-a4fa-1339effce1b8"
   },
   "outputs": [
    {
     "data": {
      "image/png": "[encoded data removed]",
      "text/plain": [
       "<Figure size 864x432 with 1 Axes>"
      ]
     },
     "metadata": {
      "needs_background": "light"
     },
     "output_type": "display_data"
    }
   ],
   "source": [
    "#WordCloud - Negative Review\n",
    "wc=WordCloud(width=1800,height=800,background_color='black',\n",
    "            min_font_size=20,\n",
    "            max_font_size=250,stopwords=STOPWORDS)\n",
    "wc.generate(''.join(df[df['sentiment']=='negative']['review']))\n",
    "plt.figure(figsize=(12,6))\n",
    "plt.imshow(wc)\n",
    "plt.axis('off')\n",
    "plt.show()"
   ]
  },
  {
   "cell_type": "markdown",
   "metadata": {
    "id": "yYQLHXCX6Ueu"
   },
   "source": [
    "### Positive Corpus"
   ]
  },
  {
   "cell_type": "code",
   "execution_count": 27,
   "metadata": {
    "id": "X-Lxkkd-LjP2"
   },
   "outputs": [],
   "source": [
    "#create Positive corpus\n",
    "postive_corpus=[]\n",
    "for sen in df[df['sentiment']=='positive']['review']:\n",
    "    words=sen.split()\n",
    "    for w in words:\n",
    "        postive_corpus.append(w)"
   ]
  },
  {
   "cell_type": "code",
   "execution_count": 28,
   "metadata": {
    "colab": {
     "base_uri": "https://localhost:8080/"
    },
    "id": "3cd-LPqHLjSU",
    "outputId": "fa88718f-d2e7-4818-981d-b988325a1589"
   },
   "outputs": [
    {
     "data": {
      "text/plain": [
       "[('not', 61299),\n",
       " ('film', 48057),\n",
       " ('movie', 43273),\n",
       " ('one', 27028),\n",
       " ('like', 17564),\n",
       " ('time', 15252),\n",
       " ('good', 14462),\n",
       " ('story', 13684),\n",
       " ('character', 13640),\n",
       " ('great', 12707),\n",
       " ('see', 12517),\n",
       " ('well', 11163),\n",
       " ('get', 11048),\n",
       " ('make', 10943),\n",
       " ('really', 10661),\n",
       " ('also', 10558),\n",
       " ('scene', 9729),\n",
       " ('even', 9424),\n",
       " ('show', 9407),\n",
       " ('life', 9190),\n",
       " ('much', 9008),\n",
       " ('love', 8919),\n",
       " ('first', 8857),\n",
       " ('people', 8655),\n",
       " ('way', 8545)]"
      ]
     },
     "execution_count": 28,
     "metadata": {},
     "output_type": "execute_result"
    }
   ],
   "source": [
    "from collections import Counter\n",
    "c=Counter(postive_corpus)\n",
    "c.most_common(25)"
   ]
  },
  {
   "cell_type": "markdown",
   "metadata": {
    "id": "GPyl0B-o6Uev"
   },
   "source": [
    "### Negative Corpus"
   ]
  },
  {
   "cell_type": "code",
   "execution_count": 29,
   "metadata": {
    "id": "LJq3_BPDKg-u"
   },
   "outputs": [],
   "source": [
    "#create Negative corpus\n",
    "negative_corpus=[]\n",
    "for sen in df[df['sentiment']=='negative']['review']:\n",
    "    words=sen.split()\n",
    "    for w in words:\n",
    "        negative_corpus.append(w)"
   ]
  },
  {
   "cell_type": "code",
   "execution_count": 30,
   "metadata": {
    "colab": {
     "base_uri": "https://localhost:8080/"
    },
    "id": "p4xPUfdFhVyi",
    "outputId": "8eff4d42-d9e3-4035-feed-2e3263048206"
   },
   "outputs": [
    {
     "data": {
      "text/plain": [
       "[('not', 77953),\n",
       " ('movie', 55780),\n",
       " ('film', 41704),\n",
       " ('one', 25594),\n",
       " ('like', 22075),\n",
       " ('even', 14891),\n",
       " ('time', 14145),\n",
       " ('good', 14130),\n",
       " ('bad', 14012),\n",
       " ('character', 13866),\n",
       " ('get', 13207),\n",
       " ('make', 12482),\n",
       " ('really', 12148),\n",
       " ('scene', 10973),\n",
       " ('see', 10860),\n",
       " ('story', 10535),\n",
       " ('much', 9797),\n",
       " ('people', 9258),\n",
       " ('thing', 9208),\n",
       " ('made', 8323),\n",
       " ('plot', 8067),\n",
       " ('way', 7962),\n",
       " ('first', 7931),\n",
       " ('acting', 7781),\n",
       " ('well', 7628)]"
      ]
     },
     "execution_count": 30,
     "metadata": {},
     "output_type": "execute_result"
    }
   ],
   "source": [
    "c1=Counter(negative_corpus)\n",
    "c1.most_common(25)"
   ]
  },
  {
   "cell_type": "code",
   "execution_count": 31,
   "metadata": {
    "colab": {
     "base_uri": "https://localhost:8080/",
     "height": 122
    },
    "id": "VimeMCbzhV1Z",
    "outputId": "856279f0-998d-48c5-867d-1d7f0886a80d"
   },
   "outputs": [
    {
     "data": {
      "application/vnd.google.colaboratory.intrinsic+json": {
       "type": "string"
      },
      "text/plain": [
       "'one reviewer mentioned watching oz episode hooked right exactly happened first thing struck oz brutality unflinching scene violence set right word go trust not show fnott hearted timid show pull punch regard drug sex violence hardcore classic use called oz nickname given oswald maximum security state penitentary focus mnotly emerald city experimental section prison cell glass front face inwards privacy not high agenda em city home many aryan muslim gangsta latino christian italian irish scuffle death stare dodgy dealing shady agreement not far say mnot appeal show due fact go show not dare forget pretty picture pnotted mnotstream audience forget charm forget romance oz not mess around first episode ever saw struck nasty surreal not say ready watched developed taste oz got accustomed high level graphic violence not violence injustice crooked guard sold nickel inmate kill order get away well mannered middle class inmate turned prison bitch due lack street skill prison experience watching oz may become comfortable uncomfortable viewing thats get touch darker side'"
      ]
     },
     "execution_count": 31,
     "metadata": {},
     "output_type": "execute_result"
    }
   ],
   "source": [
    "df.iloc[0]['review']"
   ]
  },
  {
   "cell_type": "code",
   "execution_count": 32,
   "metadata": {
    "colab": {
     "base_uri": "https://localhost:8080/",
     "height": 53
    },
    "id": "1cqLBHZahV4J",
    "outputId": "48483596-9a3f-465b-bd83-a42e32fbb84e"
   },
   "outputs": [
    {
     "data": {
      "application/vnd.google.colaboratory.intrinsic+json": {
       "type": "string"
      },
      "text/plain": [
       "\"\\n#remove some positive words from negative review\\nfor i,v in enumerate(df['sentiment']):\\n    if v=='negative':\\n        sent=df.iloc[i]['review']\\n        sent=sent.replace('good','never not good')\\n        sent=sent.replace('like','not like')\\n        sent=sent.replace('great','no not great')\\n        sent=sent.replace('well','not well')\\n        df.at[i, 'review']=sent\""
      ]
     },
     "execution_count": 32,
     "metadata": {},
     "output_type": "execute_result"
    }
   ],
   "source": [
    "'''\n",
    "#remove some positive words from negative review\n",
    "for i,v in enumerate(df['sentiment']):\n",
    "    if v=='negative':\n",
    "        sent=df.iloc[i]['review']\n",
    "        sent=sent.replace('good','never not good')\n",
    "        sent=sent.replace('like','not like')\n",
    "        sent=sent.replace('great','no not great')\n",
    "        sent=sent.replace('well','not well')\n",
    "        df.at[i, 'review']=sent'''"
   ]
  },
  {
   "cell_type": "code",
   "execution_count": 33,
   "metadata": {
    "id": "QCIRB-G4-gUL"
   },
   "outputs": [],
   "source": [
    "#make correction in negative review & remove high frequently occurace of words\n",
    "for i,v in enumerate(df['sentiment']):\n",
    "    if v=='negative':\n",
    "        sent=df.iloc[i]['review']\n",
    "        sent=re.sub(r' one ',' ',sent)\n",
    "        sent = re.sub(r\" movie \",' ',sent)\n",
    "        sent = re.sub(r\" film \",' ',sent)\n",
    "        sent=re.sub(r' good ',' never not good ',sent)\n",
    "        sent=re.sub(r' like ',' not not like ',sent)\n",
    "        sent=re.sub(r' great ',' not not great ',sent)\n",
    "        sent=re.sub(r' well ',' not not well ',sent)\n",
    "        sent = re.sub(r\"   \",\" \",sent)\n",
    "        df.at[i, 'review']=sent"
   ]
  },
  {
   "cell_type": "code",
   "execution_count": 34,
   "metadata": {
    "id": "B9sm_o7X_qV8"
   },
   "outputs": [],
   "source": [
    "#make correction in positive review & remove high frequently occurace of words\n",
    "for i,v in enumerate(df['sentiment']):\n",
    "    if v=='positive':\n",
    "        sent=df.iloc[i]['review']\n",
    "        sent=re.sub(r' not ',' ',sent)\n",
    "        sent = re.sub(r\" movie \",' ',sent)\n",
    "        sent = re.sub(r\" film \",' ',sent)\n",
    "        sent=re.sub(r' one ',' ',sent)\n",
    "        sent=re.sub(r' bad ',' not bad ',sent)\n",
    "        sent=re.sub(r' worst ',' not worst ',sent)\n",
    "        sent = re.sub(r\"  \",\" \",sent)\n",
    "        df.at[i, 'review']=sent"
   ]
  },
  {
   "cell_type": "code",
   "execution_count": 35,
   "metadata": {
    "colab": {
     "base_uri": "https://localhost:8080/",
     "height": 424
    },
    "id": "mKoEZRQqhV6p",
    "outputId": "211c183a-3259-477e-8cfc-78815b381c1b"
   },
   "outputs": [
    {
     "data": {
      "text/html": [
       "\n",
       "  <div id=\"df-4638f020-7307-41c5-af34-a5b64b42b2fc\">\n",
       "    <div class=\"colab-df-container\">\n",
       "      <div>\n",
       "<style scoped>\n",
       "    .dataframe tbody tr th:only-of-type {\n",
       "        vertical-align: middle;\n",
       "    }\n",
       "\n",
       "    .dataframe tbody tr th {\n",
       "        vertical-align: top;\n",
       "    }\n",
       "\n",
       "    .dataframe thead th {\n",
       "        text-align: right;\n",
       "    }\n",
       "</style>\n",
       "<table border=\"1\" class=\"dataframe\">\n",
       "  <thead>\n",
       "    <tr style=\"text-align: right;\">\n",
       "      <th></th>\n",
       "      <th>review</th>\n",
       "      <th>sentiment</th>\n",
       "      <th>num_words</th>\n",
       "      <th>num_words_clean</th>\n",
       "    </tr>\n",
       "  </thead>\n",
       "  <tbody>\n",
       "    <tr>\n",
       "      <th>0</th>\n",
       "      <td>one reviewer mentioned watching oz episode hoo...</td>\n",
       "      <td>positive</td>\n",
       "      <td>307</td>\n",
       "      <td>165</td>\n",
       "    </tr>\n",
       "    <tr>\n",
       "      <th>1</th>\n",
       "      <td>wonderful little production filming technique ...</td>\n",
       "      <td>positive</td>\n",
       "      <td>158</td>\n",
       "      <td>83</td>\n",
       "    </tr>\n",
       "    <tr>\n",
       "      <th>2</th>\n",
       "      <td>thought wonderful way spend time hot summer we...</td>\n",
       "      <td>positive</td>\n",
       "      <td>165</td>\n",
       "      <td>82</td>\n",
       "    </tr>\n",
       "    <tr>\n",
       "      <th>3</th>\n",
       "      <td>basically family little boy jake think zombie ...</td>\n",
       "      <td>negative</td>\n",
       "      <td>135</td>\n",
       "      <td>60</td>\n",
       "    </tr>\n",
       "    <tr>\n",
       "      <th>4</th>\n",
       "      <td>petter mattei love time money visually stunnin...</td>\n",
       "      <td>positive</td>\n",
       "      <td>225</td>\n",
       "      <td>120</td>\n",
       "    </tr>\n",
       "    <tr>\n",
       "      <th>...</th>\n",
       "      <td>...</td>\n",
       "      <td>...</td>\n",
       "      <td>...</td>\n",
       "      <td>...</td>\n",
       "    </tr>\n",
       "    <tr>\n",
       "      <th>49577</th>\n",
       "      <td>thought right good job creative original first...</td>\n",
       "      <td>positive</td>\n",
       "      <td>197</td>\n",
       "      <td>82</td>\n",
       "    </tr>\n",
       "    <tr>\n",
       "      <th>49578</th>\n",
       "      <td>bad plot bad dialogue bad acting idiotic direc...</td>\n",
       "      <td>negative</td>\n",
       "      <td>108</td>\n",
       "      <td>52</td>\n",
       "    </tr>\n",
       "    <tr>\n",
       "      <th>49579</th>\n",
       "      <td>catholic taught parochial elementary school nu...</td>\n",
       "      <td>negative</td>\n",
       "      <td>232</td>\n",
       "      <td>114</td>\n",
       "    </tr>\n",
       "    <tr>\n",
       "      <th>49580</th>\n",
       "      <td>going disagree previous comment side maltin se...</td>\n",
       "      <td>negative</td>\n",
       "      <td>217</td>\n",
       "      <td>112</td>\n",
       "    </tr>\n",
       "    <tr>\n",
       "      <th>49581</th>\n",
       "      <td>one expects star trek high art fan expect neve...</td>\n",
       "      <td>negative</td>\n",
       "      <td>129</td>\n",
       "      <td>66</td>\n",
       "    </tr>\n",
       "  </tbody>\n",
       "</table>\n",
       "<p>49582 rows × 4 columns</p>\n",
       "</div>\n",
       "      <button class=\"colab-df-convert\" onclick=\"convertToInteractive('df-4638f020-7307-41c5-af34-a5b64b42b2fc')\"\n",
       "              title=\"Convert this dataframe to an interactive table.\"\n",
       "              style=\"display:none;\">\n",
       "        \n",
       "  <svg xmlns=\"http://www.w3.org/2000/svg\" height=\"24px\"viewBox=\"0 0 24 24\"\n",
       "       width=\"24px\">\n",
       "    <path d=\"M0 0h24v24H0V0z\" fill=\"none\"/>\n",
       "    <path d=\"M18.56 5.44l.94 2.06.94-2.06 2.06-.94-2.06-.94-.94-2.06-.94 2.06-2.06.94zm-11 1L8.5 8.5l.94-2.06 2.06-.94-2.06-.94L8.5 2.5l-.94 2.06-2.06.94zm10 10l.94 2.06.94-2.06 2.06-.94-2.06-.94-.94-2.06-.94 2.06-2.06.94z\"/><path d=\"M17.41 7.96l-1.37-1.37c-.4-.4-.92-.59-1.43-.59-.52 0-1.04.2-1.43.59L10.3 9.45l-7.72 7.72c-.78.78-.78 2.05 0 2.83L4 21.41c.39.39.9.59 1.41.59.51 0 1.02-.2 1.41-.59l7.78-7.78 2.81-2.81c.8-.78.8-2.07 0-2.86zM5.41 20L4 18.59l7.72-7.72 1.47 1.35L5.41 20z\"/>\n",
       "  </svg>\n",
       "      </button>\n",
       "      \n",
       "  <style>\n",
       "    .colab-df-container {\n",
       "      display:flex;\n",
       "      flex-wrap:wrap;\n",
       "      gap: 12px;\n",
       "    }\n",
       "\n",
       "    .colab-df-convert {\n",
       "      background-color: #E8F0FE;\n",
       "      border: none;\n",
       "      border-radius: 50%;\n",
       "      cursor: pointer;\n",
       "      display: none;\n",
       "      fill: #1967D2;\n",
       "      height: 32px;\n",
       "      padding: 0 0 0 0;\n",
       "      width: 32px;\n",
       "    }\n",
       "\n",
       "    .colab-df-convert:hover {\n",
       "      background-color: #E2EBFA;\n",
       "      box-shadow: 0px 1px 2px rgba(60, 64, 67, 0.3), 0px 1px 3px 1px rgba(60, 64, 67, 0.15);\n",
       "      fill: #174EA6;\n",
       "    }\n",
       "\n",
       "    [theme=dark] .colab-df-convert {\n",
       "      background-color: #3B4455;\n",
       "      fill: #D2E3FC;\n",
       "    }\n",
       "\n",
       "    [theme=dark] .colab-df-convert:hover {\n",
       "      background-color: #434B5C;\n",
       "      box-shadow: 0px 1px 3px 1px rgba(0, 0, 0, 0.15);\n",
       "      filter: drop-shadow(0px 1px 2px rgba(0, 0, 0, 0.3));\n",
       "      fill: #FFFFFF;\n",
       "    }\n",
       "  </style>\n",
       "\n",
       "      <script>\n",
       "        const buttonEl =\n",
       "          document.querySelector('#df-4638f020-7307-41c5-af34-a5b64b42b2fc button.colab-df-convert');\n",
       "        buttonEl.style.display =\n",
       "          google.colab.kernel.accessAllowed ? 'block' : 'none';\n",
       "\n",
       "        async function convertToInteractive(key) {\n",
       "          const element = document.querySelector('#df-4638f020-7307-41c5-af34-a5b64b42b2fc');\n",
       "          const dataTable =\n",
       "            await google.colab.kernel.invokeFunction('convertToInteractive',\n",
       "                                                     [key], {});\n",
       "          if (!dataTable) return;\n",
       "\n",
       "          const docLinkHtml = 'Like what you see? Visit the ' +\n",
       "            '<a target=\"_blank\" href=https://colab.research.google.com/notebooks/data_table.ipynb>data table notebook</a>'\n",
       "            + ' to learn more about interactive tables.';\n",
       "          element.innerHTML = '';\n",
       "          dataTable['output_type'] = 'display_data';\n",
       "          await google.colab.output.renderOutput(dataTable, element);\n",
       "          const docLink = document.createElement('div');\n",
       "          docLink.innerHTML = docLinkHtml;\n",
       "          element.appendChild(docLink);\n",
       "        }\n",
       "      </script>\n",
       "    </div>\n",
       "  </div>\n",
       "  "
      ],
      "text/plain": [
       "                                                  review sentiment  num_words  \\\n",
       "0      one reviewer mentioned watching oz episode hoo...  positive        307   \n",
       "1      wonderful little production filming technique ...  positive        158   \n",
       "2      thought wonderful way spend time hot summer we...  positive        165   \n",
       "3      basically family little boy jake think zombie ...  negative        135   \n",
       "4      petter mattei love time money visually stunnin...  positive        225   \n",
       "...                                                  ...       ...        ...   \n",
       "49577  thought right good job creative original first...  positive        197   \n",
       "49578  bad plot bad dialogue bad acting idiotic direc...  negative        108   \n",
       "49579  catholic taught parochial elementary school nu...  negative        232   \n",
       "49580  going disagree previous comment side maltin se...  negative        217   \n",
       "49581  one expects star trek high art fan expect neve...  negative        129   \n",
       "\n",
       "       num_words_clean  \n",
       "0                  165  \n",
       "1                   83  \n",
       "2                   82  \n",
       "3                   60  \n",
       "4                  120  \n",
       "...                ...  \n",
       "49577               82  \n",
       "49578               52  \n",
       "49579              114  \n",
       "49580              112  \n",
       "49581               66  \n",
       "\n",
       "[49582 rows x 4 columns]"
      ]
     },
     "execution_count": 35,
     "metadata": {},
     "output_type": "execute_result"
    }
   ],
   "source": [
    "df"
   ]
  },
  {
   "cell_type": "markdown",
   "metadata": {
    "id": "zScVn6Em6Uew"
   },
   "source": [
    "### Label Encoding of Target Feature"
   ]
  },
  {
   "cell_type": "code",
   "execution_count": 36,
   "metadata": {
    "id": "XjyCpmGkhV9h"
   },
   "outputs": [],
   "source": [
    "#Encode Target Categ\n",
    "df['sentiment']=df['sentiment'].map({'positive':1,'negative':0})"
   ]
  },
  {
   "cell_type": "code",
   "execution_count": 37,
   "metadata": {
    "id": "aHcvjU5bhV_6"
   },
   "outputs": [],
   "source": [
    "#sen_len=[len(word_tokenize(sent)) for sent in df['review']]\n",
    "#df['sen_len']=sen_len"
   ]
  },
  {
   "cell_type": "code",
   "execution_count": 38,
   "metadata": {
    "colab": {
     "base_uri": "https://localhost:8080/"
    },
    "id": "JkpCWb4vhWOJ",
    "outputId": "515d8bfa-373c-4643-a42f-6c422497fb6e"
   },
   "outputs": [
    {
     "data": {
      "text/plain": [
       "1401"
      ]
     },
     "execution_count": 38,
     "metadata": {},
     "output_type": "execute_result"
    }
   ],
   "source": [
    "#max len of words\n",
    "df['num_words_clean'].max()"
   ]
  },
  {
   "cell_type": "code",
   "execution_count": 39,
   "metadata": {
    "colab": {
     "base_uri": "https://localhost:8080/",
     "height": 300
    },
    "id": "fTYSDqA_hWRB",
    "outputId": "0124e5ab-2aa5-4771-9d78-8697d730bf25"
   },
   "outputs": [
    {
     "data": {
      "text/html": [
       "\n",
       "  <div id=\"df-b2bb86c6-6c65-427d-bb99-00aa3a9d5a3f\">\n",
       "    <div class=\"colab-df-container\">\n",
       "      <div>\n",
       "<style scoped>\n",
       "    .dataframe tbody tr th:only-of-type {\n",
       "        vertical-align: middle;\n",
       "    }\n",
       "\n",
       "    .dataframe tbody tr th {\n",
       "        vertical-align: top;\n",
       "    }\n",
       "\n",
       "    .dataframe thead th {\n",
       "        text-align: right;\n",
       "    }\n",
       "</style>\n",
       "<table border=\"1\" class=\"dataframe\">\n",
       "  <thead>\n",
       "    <tr style=\"text-align: right;\">\n",
       "      <th></th>\n",
       "      <th>sentiment</th>\n",
       "      <th>num_words</th>\n",
       "      <th>num_words_clean</th>\n",
       "    </tr>\n",
       "  </thead>\n",
       "  <tbody>\n",
       "    <tr>\n",
       "      <th>count</th>\n",
       "      <td>49582.000000</td>\n",
       "      <td>49582.000000</td>\n",
       "      <td>49582.000000</td>\n",
       "    </tr>\n",
       "    <tr>\n",
       "      <th>mean</th>\n",
       "      <td>0.501876</td>\n",
       "      <td>231.825239</td>\n",
       "      <td>114.572446</td>\n",
       "    </tr>\n",
       "    <tr>\n",
       "      <th>std</th>\n",
       "      <td>0.500002</td>\n",
       "      <td>171.880309</td>\n",
       "      <td>86.163390</td>\n",
       "    </tr>\n",
       "    <tr>\n",
       "      <th>min</th>\n",
       "      <td>0.000000</td>\n",
       "      <td>4.000000</td>\n",
       "      <td>3.000000</td>\n",
       "    </tr>\n",
       "    <tr>\n",
       "      <th>25%</th>\n",
       "      <td>0.000000</td>\n",
       "      <td>127.000000</td>\n",
       "      <td>62.000000</td>\n",
       "    </tr>\n",
       "    <tr>\n",
       "      <th>50%</th>\n",
       "      <td>1.000000</td>\n",
       "      <td>174.000000</td>\n",
       "      <td>85.000000</td>\n",
       "    </tr>\n",
       "    <tr>\n",
       "      <th>75%</th>\n",
       "      <td>1.000000</td>\n",
       "      <td>281.000000</td>\n",
       "      <td>139.000000</td>\n",
       "    </tr>\n",
       "    <tr>\n",
       "      <th>max</th>\n",
       "      <td>1.000000</td>\n",
       "      <td>2482.000000</td>\n",
       "      <td>1401.000000</td>\n",
       "    </tr>\n",
       "  </tbody>\n",
       "</table>\n",
       "</div>\n",
       "      <button class=\"colab-df-convert\" onclick=\"convertToInteractive('df-b2bb86c6-6c65-427d-bb99-00aa3a9d5a3f')\"\n",
       "              title=\"Convert this dataframe to an interactive table.\"\n",
       "              style=\"display:none;\">\n",
       "        \n",
       "  <svg xmlns=\"http://www.w3.org/2000/svg\" height=\"24px\"viewBox=\"0 0 24 24\"\n",
       "       width=\"24px\">\n",
       "    <path d=\"M0 0h24v24H0V0z\" fill=\"none\"/>\n",
       "    <path d=\"M18.56 5.44l.94 2.06.94-2.06 2.06-.94-2.06-.94-.94-2.06-.94 2.06-2.06.94zm-11 1L8.5 8.5l.94-2.06 2.06-.94-2.06-.94L8.5 2.5l-.94 2.06-2.06.94zm10 10l.94 2.06.94-2.06 2.06-.94-2.06-.94-.94-2.06-.94 2.06-2.06.94z\"/><path d=\"M17.41 7.96l-1.37-1.37c-.4-.4-.92-.59-1.43-.59-.52 0-1.04.2-1.43.59L10.3 9.45l-7.72 7.72c-.78.78-.78 2.05 0 2.83L4 21.41c.39.39.9.59 1.41.59.51 0 1.02-.2 1.41-.59l7.78-7.78 2.81-2.81c.8-.78.8-2.07 0-2.86zM5.41 20L4 18.59l7.72-7.72 1.47 1.35L5.41 20z\"/>\n",
       "  </svg>\n",
       "      </button>\n",
       "      \n",
       "  <style>\n",
       "    .colab-df-container {\n",
       "      display:flex;\n",
       "      flex-wrap:wrap;\n",
       "      gap: 12px;\n",
       "    }\n",
       "\n",
       "    .colab-df-convert {\n",
       "      background-color: #E8F0FE;\n",
       "      border: none;\n",
       "      border-radius: 50%;\n",
       "      cursor: pointer;\n",
       "      display: none;\n",
       "      fill: #1967D2;\n",
       "      height: 32px;\n",
       "      padding: 0 0 0 0;\n",
       "      width: 32px;\n",
       "    }\n",
       "\n",
       "    .colab-df-convert:hover {\n",
       "      background-color: #E2EBFA;\n",
       "      box-shadow: 0px 1px 2px rgba(60, 64, 67, 0.3), 0px 1px 3px 1px rgba(60, 64, 67, 0.15);\n",
       "      fill: #174EA6;\n",
       "    }\n",
       "\n",
       "    [theme=dark] .colab-df-convert {\n",
       "      background-color: #3B4455;\n",
       "      fill: #D2E3FC;\n",
       "    }\n",
       "\n",
       "    [theme=dark] .colab-df-convert:hover {\n",
       "      background-color: #434B5C;\n",
       "      box-shadow: 0px 1px 3px 1px rgba(0, 0, 0, 0.15);\n",
       "      filter: drop-shadow(0px 1px 2px rgba(0, 0, 0, 0.3));\n",
       "      fill: #FFFFFF;\n",
       "    }\n",
       "  </style>\n",
       "\n",
       "      <script>\n",
       "        const buttonEl =\n",
       "          document.querySelector('#df-b2bb86c6-6c65-427d-bb99-00aa3a9d5a3f button.colab-df-convert');\n",
       "        buttonEl.style.display =\n",
       "          google.colab.kernel.accessAllowed ? 'block' : 'none';\n",
       "\n",
       "        async function convertToInteractive(key) {\n",
       "          const element = document.querySelector('#df-b2bb86c6-6c65-427d-bb99-00aa3a9d5a3f');\n",
       "          const dataTable =\n",
       "            await google.colab.kernel.invokeFunction('convertToInteractive',\n",
       "                                                     [key], {});\n",
       "          if (!dataTable) return;\n",
       "\n",
       "          const docLinkHtml = 'Like what you see? Visit the ' +\n",
       "            '<a target=\"_blank\" href=https://colab.research.google.com/notebooks/data_table.ipynb>data table notebook</a>'\n",
       "            + ' to learn more about interactive tables.';\n",
       "          element.innerHTML = '';\n",
       "          dataTable['output_type'] = 'display_data';\n",
       "          await google.colab.output.renderOutput(dataTable, element);\n",
       "          const docLink = document.createElement('div');\n",
       "          docLink.innerHTML = docLinkHtml;\n",
       "          element.appendChild(docLink);\n",
       "        }\n",
       "      </script>\n",
       "    </div>\n",
       "  </div>\n",
       "  "
      ],
      "text/plain": [
       "          sentiment     num_words  num_words_clean\n",
       "count  49582.000000  49582.000000     49582.000000\n",
       "mean       0.501876    231.825239       114.572446\n",
       "std        0.500002    171.880309        86.163390\n",
       "min        0.000000      4.000000         3.000000\n",
       "25%        0.000000    127.000000        62.000000\n",
       "50%        1.000000    174.000000        85.000000\n",
       "75%        1.000000    281.000000       139.000000\n",
       "max        1.000000   2482.000000      1401.000000"
      ]
     },
     "execution_count": 39,
     "metadata": {},
     "output_type": "execute_result"
    }
   ],
   "source": [
    "df.describe()"
   ]
  },
  {
   "cell_type": "code",
   "execution_count": 40,
   "metadata": {
    "id": "hTsWszllhWTk"
   },
   "outputs": [],
   "source": [
    "from nltk.corpus import stopwords\n",
    "from nltk.stem.porter import PorterStemmer\n",
    "from nltk.stem import WordNetLemmatizer\n",
    "from nltk.tokenize import word_tokenize,sent_tokenize\n",
    "import re,string\n",
    "from keras.preprocessing import text, sequence\n",
    "from sklearn.metrics import classification_report,confusion_matrix,accuracy_score\n",
    "from sklearn.model_selection import train_test_split\n",
    "from nltk import pos_tag\n",
    "from nltk.corpus import wordnet\n",
    "import keras\n",
    "from keras.models import Sequential\n",
    "from keras.layers import Dense,Embedding,LSTM,Dropout\n",
    "from keras.callbacks import ReduceLROnPlateau\n",
    "import tensorflow as tf"
   ]
  },
  {
   "cell_type": "markdown",
   "metadata": {
    "id": "rgtVo5PQ6Uex"
   },
   "source": [
    "<div style=\"color:white;\n",
    "           display:fill;\n",
    "           border-radius:15px;\n",
    "           background-color:green;\n",
    "           font-size:120%;\n",
    "           font-family:#afd511;\n",
    "           letter-spacing:0.5px\">\n",
    "\n",
    "<h3 style=\"padding: 13px; color:white; text-align:center\"><b>Data Preprocessing</b></h3>\n",
    "</div>"
   ]
  },
  {
   "cell_type": "markdown",
   "metadata": {
    "id": "wQIwPX4v6Uex"
   },
   "source": [
    "### Input & Output "
   ]
  },
  {
   "cell_type": "code",
   "execution_count": 41,
   "metadata": {
    "id": "Rbn9bun8hWY1"
   },
   "outputs": [],
   "source": [
    "#Input & Output \n",
    "#X= df.drop(columns=['sentiment','num_words','num_words_clean'],axis=1)\n",
    "X=df['review']\n",
    "Y=df['sentiment']"
   ]
  },
  {
   "cell_type": "code",
   "execution_count": 42,
   "metadata": {
    "colab": {
     "base_uri": "https://localhost:8080/"
    },
    "id": "CB8XD1GghWbO",
    "outputId": "722980a5-72fa-416c-b297-c1819b42f1b5"
   },
   "outputs": [
    {
     "data": {
      "text/plain": [
       "0        one reviewer mentioned watching oz episode hoo...\n",
       "1        wonderful little production filming technique ...\n",
       "2        thought wonderful way spend time hot summer we...\n",
       "3        basically family little boy jake think zombie ...\n",
       "4        petter mattei love time money visually stunnin...\n",
       "                               ...                        \n",
       "49577    thought right good job creative original first...\n",
       "49578    bad plot bad dialogue bad acting idiotic direc...\n",
       "49579    catholic taught parochial elementary school nu...\n",
       "49580    going disagree previous comment side maltin se...\n",
       "49581    one expects star trek high art fan expect neve...\n",
       "Name: review, Length: 49582, dtype: object"
      ]
     },
     "execution_count": 42,
     "metadata": {},
     "output_type": "execute_result"
    }
   ],
   "source": [
    "X"
   ]
  },
  {
   "cell_type": "code",
   "execution_count": 43,
   "metadata": {
    "colab": {
     "base_uri": "https://localhost:8080/"
    },
    "id": "s3Os0FfVhWev",
    "outputId": "1f6a96af-000e-491a-a36f-987ad8a50933"
   },
   "outputs": [
    {
     "data": {
      "text/plain": [
       "0        1\n",
       "1        1\n",
       "2        1\n",
       "3        0\n",
       "4        1\n",
       "        ..\n",
       "49577    1\n",
       "49578    0\n",
       "49579    0\n",
       "49580    0\n",
       "49581    0\n",
       "Name: sentiment, Length: 49582, dtype: int64"
      ]
     },
     "execution_count": 43,
     "metadata": {},
     "output_type": "execute_result"
    }
   ],
   "source": [
    "Y"
   ]
  },
  {
   "cell_type": "code",
   "execution_count": 44,
   "metadata": {
    "id": "A4clNFp1hWgJ"
   },
   "outputs": [],
   "source": [
    "#Entire Corpus\n",
    "corpus=[]\n",
    "for sen in df['review']:\n",
    "    corpus.append(sen)"
   ]
  },
  {
   "cell_type": "code",
   "execution_count": 45,
   "metadata": {
    "colab": {
     "base_uri": "https://localhost:8080/"
    },
    "id": "kVTddU9dhWiq",
    "outputId": "e85b1343-299a-449f-f228-67834dd29165"
   },
   "outputs": [
    {
     "data": {
      "text/plain": [
       "['one reviewer mentioned watching oz episode hooked right exactly happened first thing struck oz brutality unflinching scene violence set right word go trust show fnott hearted timid show pull punch regard drug sex violence hardcore classic use called oz nickname given oswald maximum security state penitentary focus mnotly emerald city experimental section prison cell glass front face inwards privacy high agenda em city home many aryan muslim gangsta latino christian italian irish scuffle death stare dodgy dealing shady agreement far say mnot appeal show due fact go show dare forget pretty picture pnotted mnotstream audience forget charm forget romance oz mess around first episode ever saw struck nasty surreal say ready watched developed taste oz got accustomed high level graphic violence violence injustice crooked guard sold nickel inmate kill order get away well mannered middle class inmate turned prison bitch due lack street skill prison experience watching oz may become comfortable uncomfortable viewing thats get touch darker side',\n",
       " 'wonderful little production filming technique fashion give comforting sometimes discomforting sense realism entire piece actor extremely well michael sheen got polari voice pat truly see seamless editing guided reference williams diary entry well worth watching terrificly written performed piece masterful production great master comedy life realism really come home little thing fantasy guard rather use traditional wouldream technique remnots solid disappears play knowledge sens particularly scene concerning orton halliwell set particularly flat halliwell mural decorating every surface terribly well done',\n",
       " 'thought wonderful way spend time hot summer weekend sitting air conditioned theater watching comedy plot simplistic dialogue witty character likable even well bread suspected serial killer may disappointed realize match point risk addiction thought proof woody allen still fully control style many u grown laughed woody comedy year dare say decade impressed scarlet johanson managed tone sexy image jumped right average spirited young may crown jewel career wittier devil wear prada interesting superman great comedy go see friend']"
      ]
     },
     "execution_count": 45,
     "metadata": {},
     "output_type": "execute_result"
    }
   ],
   "source": [
    "corpus[:3]"
   ]
  },
  {
   "cell_type": "markdown",
   "metadata": {
    "id": "D9LtW3o76Uey"
   },
   "source": [
    "### Train-Test split (80/20)"
   ]
  },
  {
   "cell_type": "code",
   "execution_count": 46,
   "metadata": {
    "id": "on5JCczRhWly"
   },
   "outputs": [],
   "source": [
    "#train test split\n",
    "from sklearn.model_selection import train_test_split\n",
    "X_train,X_test,Y_train,Y_test=train_test_split(X,Y,test_size=0.2,random_state=5)"
   ]
  },
  {
   "cell_type": "code",
   "execution_count": 47,
   "metadata": {
    "colab": {
     "base_uri": "https://localhost:8080/"
    },
    "id": "vlXEF4c4l-bJ",
    "outputId": "d9c2ce83-d068-4017-d409-c0e6c20ab6a7"
   },
   "outputs": [
    {
     "data": {
      "text/plain": [
       "7169     altered specie start friday night los angeles ...\n",
       "529      not sure decides category fit not horror story...\n",
       "47174    saw league gentleman apocalypse special screen...\n",
       "48408    three stooge feature length western perhaps ro...\n",
       "36506    prey interesting history unless remember ad ne...\n",
       "                               ...                        \n",
       "5520     throughout watching end day got sense maker pe...\n",
       "35814    gay counterpart gone wind given epic lenght in...\n",
       "20463    happens ivan terrible part ii entry worst book...\n",
       "18638    not seen age figured comment anyway mostly mem...\n",
       "35683    ingenious enough plausible still lot fun pure ...\n",
       "Name: review, Length: 39665, dtype: object"
      ]
     },
     "execution_count": 47,
     "metadata": {},
     "output_type": "execute_result"
    }
   ],
   "source": [
    "X_train"
   ]
  },
  {
   "cell_type": "code",
   "execution_count": 48,
   "metadata": {
    "colab": {
     "base_uri": "https://localhost:8080/"
    },
    "id": "uSmoACZRhWoh",
    "outputId": "f106654e-5d5b-41a4-8b45-56e3f7abc22e"
   },
   "outputs": [
    {
     "data": {
      "text/plain": [
       "((39665,), (9917,))"
      ]
     },
     "execution_count": 48,
     "metadata": {},
     "output_type": "execute_result"
    }
   ],
   "source": [
    "X_train.shape,X_test.shape"
   ]
  },
  {
   "cell_type": "code",
   "execution_count": 49,
   "metadata": {
    "colab": {
     "base_uri": "https://localhost:8080/"
    },
    "id": "ucfb2KBinXlx",
    "outputId": "367e486b-2349-4c6a-82aa-9212049c3fc4",
    "scrolled": true
   },
   "outputs": [
    {
     "data": {
      "text/plain": [
       "295.0"
      ]
     },
     "execution_count": 49,
     "metadata": {},
     "output_type": "execute_result"
    }
   ],
   "source": [
    "#Min length of to cover 95% population or records\n",
    "np.quantile(df['num_words_clean'],0.95)"
   ]
  },
  {
   "cell_type": "markdown",
   "metadata": {
    "id": "_A9BiOfj6Uez"
   },
   "source": [
    "<div style=\"color:white;\n",
    "           display:fill;\n",
    "           border-radius:15px;\n",
    "           background-color:green;\n",
    "           font-size:120%;\n",
    "           font-family:#afd511;\n",
    "           letter-spacing:0.5px\">\n",
    "\n",
    "<h3 style=\"padding: 13px; color:white; text-align:center\"><b>Model Building</b></h3>\n",
    "</div>"
   ]
  },
  {
   "cell_type": "markdown",
   "metadata": {
    "id": "OiVjSP276Uez"
   },
   "source": [
    "## Model-1"
   ]
  },
  {
   "cell_type": "markdown",
   "metadata": {
    "id": "iRZorbsw6Uez"
   },
   "source": [
    "### Multinomial NB"
   ]
  },
  {
   "cell_type": "code",
   "execution_count": 50,
   "metadata": {
    "id": "ECVpV72W6Uez"
   },
   "outputs": [],
   "source": [
    "from sklearn.naive_bayes import MultinomialNB\n",
    "from sklearn.metrics import classification_report,confusion_matrix,accuracy_score"
   ]
  },
  {
   "cell_type": "markdown",
   "metadata": {
    "id": "DprWdyDs6Uez"
   },
   "source": [
    "### 1- CountVectorizer"
   ]
  },
  {
   "cell_type": "code",
   "execution_count": 51,
   "metadata": {
    "colab": {
     "base_uri": "https://localhost:8080/"
    },
    "id": "5U3bigVT6Uez",
    "outputId": "39723f3b-539b-4bd2-cec9-81566ff35b26"
   },
   "outputs": [
    {
     "name": "stdout",
     "output_type": "stream",
     "text": [
      "BOW_cv_train: (39665, 10000)\n",
      "BOW_cv_test: (9917, 10000)\n"
     ]
    }
   ],
   "source": [
    "#CountVectorizer\n",
    "cv=CountVectorizer(max_features=10000,binary=False,ngram_range=(1,3))\n",
    "#transformed train reviews\n",
    "cv_train_reviews=cv.fit_transform(X_train)\n",
    "#transformed test reviews\n",
    "cv_test_reviews=cv.transform(X_test)\n",
    "\n",
    "print('BOW_cv_train:',cv_train_reviews.shape)\n",
    "print('BOW_cv_test:',cv_test_reviews.shape)"
   ]
  },
  {
   "cell_type": "markdown",
   "metadata": {
    "id": "o752ct6w6Ue0"
   },
   "source": [
    "### 2- TfidfVectorizer"
   ]
  },
  {
   "cell_type": "code",
   "execution_count": 52,
   "metadata": {
    "colab": {
     "base_uri": "https://localhost:8080/"
    },
    "id": "ii0d1rSs6Ue0",
    "outputId": "f793c878-473e-452f-a9c6-804d09a1a4b3"
   },
   "outputs": [
    {
     "name": "stdout",
     "output_type": "stream",
     "text": [
      "Tfidf_train: (39665, 10000)\n",
      "Tfidf_test: (9917, 10000)\n"
     ]
    }
   ],
   "source": [
    "#TfidfVectorizer\n",
    "tv=TfidfVectorizer(max_features=10000,ngram_range=(1,3))\n",
    "#transformed train reviews\n",
    "tv_train_reviews=tv.fit_transform(X_train)\n",
    "#transformed test reviews\n",
    "tv_test_reviews=tv.transform(X_test)\n",
    "print('Tfidf_train:',tv_train_reviews.shape)\n",
    "print('Tfidf_test:',tv_test_reviews.shape)"
   ]
  },
  {
   "cell_type": "markdown",
   "metadata": {
    "id": "uFHEGXQK6Ue0"
   },
   "source": [
    "### Train model"
   ]
  },
  {
   "cell_type": "code",
   "execution_count": 53,
   "metadata": {
    "colab": {
     "base_uri": "https://localhost:8080/"
    },
    "id": "zzjf2_pG6Ue0",
    "outputId": "7bf2eca8-183d-45cd-aae7-9ee3ba387add"
   },
   "outputs": [
    {
     "name": "stdout",
     "output_type": "stream",
     "text": [
      "MultinomialNB()\n"
     ]
    }
   ],
   "source": [
    "#training the model with CountVectorizer features\n",
    "mnb=MultinomialNB()\n",
    "#fitting the nb for bag of words\n",
    "mnb_bow=mnb.fit(cv_train_reviews,Y_train)\n",
    "print(mnb_bow)"
   ]
  },
  {
   "cell_type": "code",
   "execution_count": 54,
   "metadata": {
    "colab": {
     "base_uri": "https://localhost:8080/"
    },
    "id": "y23zpZi76Ue0",
    "outputId": "df6d85f4-1c4b-4791-b28a-c91add1e70e7"
   },
   "outputs": [
    {
     "name": "stdout",
     "output_type": "stream",
     "text": [
      "MultinomialNB()\n"
     ]
    }
   ],
   "source": [
    "#training the model with TfidfVectorizer features\n",
    "#fitting the nb for tfidf features\n",
    "mnb_tfidf=mnb.fit(tv_train_reviews,Y_train)\n",
    "print(mnb_tfidf)"
   ]
  },
  {
   "cell_type": "code",
   "execution_count": 55,
   "metadata": {
    "id": "pCTLYUHq6Ue0"
   },
   "outputs": [],
   "source": [
    "#Predicting the model for bag of words or CountVectorizer\n",
    "mnb_bow_predict=mnb.predict(cv_test_reviews)\n",
    "#Predicting the model for tfidf features\n",
    "mnb_tfidf_predict=mnb.predict(tv_test_reviews)"
   ]
  },
  {
   "cell_type": "markdown",
   "metadata": {
    "id": "gB5panVL6Ue1"
   },
   "source": [
    "### Model Evaluation "
   ]
  },
  {
   "cell_type": "code",
   "execution_count": 56,
   "metadata": {
    "colab": {
     "base_uri": "https://localhost:8080/"
    },
    "id": "V2W8Jomm6Ue1",
    "outputId": "d2166cb8-113e-42bb-9dc2-6e925cee9eed"
   },
   "outputs": [
    {
     "name": "stdout",
     "output_type": "stream",
     "text": [
      "mnb_bow_score : 0.9631945144701018\n",
      "mnb_tfidf_score : 0.9556317434708077\n"
     ]
    }
   ],
   "source": [
    "#Model Evaluation\n",
    "#Accuracy score for bag of words\n",
    "mnb_bow_score=accuracy_score(Y_test,mnb_bow_predict)\n",
    "print(\"mnb_bow_score :\",mnb_bow_score)\n",
    "#Accuracy score for tfidf features\n",
    "mnb_tfidf_score=accuracy_score(Y_test,mnb_tfidf_predict)\n",
    "print(\"mnb_tfidf_score :\",mnb_tfidf_score)"
   ]
  },
  {
   "cell_type": "code",
   "execution_count": 57,
   "metadata": {
    "colab": {
     "base_uri": "https://localhost:8080/"
    },
    "id": "LO9kujXZ6Ue1",
    "outputId": "411f4fd2-a35c-4742-80a2-6eeac7c303a9"
   },
   "outputs": [
    {
     "name": "stdout",
     "output_type": "stream",
     "text": [
      "              precision    recall  f1-score   support\n",
      "\n",
      "           0       0.96      0.96      0.96      4935\n",
      "           1       0.96      0.96      0.96      4982\n",
      "\n",
      "    accuracy                           0.96      9917\n",
      "   macro avg       0.96      0.96      0.96      9917\n",
      "weighted avg       0.96      0.96      0.96      9917\n",
      "\n"
     ]
    },
    {
     "data": {
      "text/plain": [
       "array([[4753,  182],\n",
       "       [ 183, 4799]])"
      ]
     },
     "execution_count": 57,
     "metadata": {},
     "output_type": "execute_result"
    }
   ],
   "source": [
    "mnb_bow_report = classification_report(Y_test,mnb_bow_predict,target_names = ['0','1'])\n",
    "print(mnb_bow_report)\n",
    "cm_cv = confusion_matrix(Y_test,mnb_bow_predict)\n",
    "cm_cv"
   ]
  },
  {
   "cell_type": "code",
   "execution_count": 58,
   "metadata": {
    "colab": {
     "base_uri": "https://localhost:8080/"
    },
    "id": "5FEr-Xtr6Ue1",
    "outputId": "7863fa73-b1bb-47bc-edeb-b0cda5860605"
   },
   "outputs": [
    {
     "name": "stdout",
     "output_type": "stream",
     "text": [
      "              precision    recall  f1-score   support\n",
      "\n",
      "           0       0.97      0.94      0.95      4935\n",
      "           1       0.94      0.97      0.96      4982\n",
      "\n",
      "    accuracy                           0.96      9917\n",
      "   macro avg       0.96      0.96      0.96      9917\n",
      "weighted avg       0.96      0.96      0.96      9917\n",
      "\n"
     ]
    },
    {
     "data": {
      "text/plain": [
       "array([[4653,  282],\n",
       "       [ 158, 4824]])"
      ]
     },
     "execution_count": 58,
     "metadata": {},
     "output_type": "execute_result"
    }
   ],
   "source": [
    "mnb_tfidf_report = classification_report(Y_test,mnb_tfidf_predict,target_names = ['0','1'])\n",
    "print(mnb_tfidf_report)\n",
    "cm_tv = confusion_matrix(Y_test,mnb_tfidf_predict)\n",
    "cm_tv"
   ]
  },
  {
   "cell_type": "code",
   "execution_count": 59,
   "metadata": {
    "colab": {
     "base_uri": "https://localhost:8080/",
     "height": 351
    },
    "id": "E-qXSNVG6Ue1",
    "outputId": "a1fbeefc-7557-4ac8-95e2-c448cb2ed248"
   },
   "outputs": [
    {
     "data": {
      "image/png": "[encoded data removed]",
      "text/plain": [
       "<Figure size 504x360 with 2 Axes>"
      ]
     },
     "metadata": {
      "needs_background": "light"
     },
     "output_type": "display_data"
    }
   ],
   "source": [
    "cm_cv = pd.DataFrame(cm_cv, index=[0,1], columns=[0,1])\n",
    "cm_cv.index.name = 'Actual'\n",
    "cm_cv.columns.name = 'Predicted'\n",
    "plt.figure(figsize = (7,5))\n",
    "sns.heatmap(cm_cv,cmap= \"Blues\",annot = True, fmt='',xticklabels=[\"Negative Review 0\",\"Positive Reviews 1\"],yticklabels=[\"Negative Review 0\",\"Positive Reviews 1\"])\n",
    "\n",
    "plt.title(\"CM for MNB Model WIth with CountVectorizer features\",color='red',size=14)\n",
    "plt.show()"
   ]
  },
  {
   "cell_type": "code",
   "execution_count": 60,
   "metadata": {
    "colab": {
     "base_uri": "https://localhost:8080/",
     "height": 351
    },
    "id": "l-5NQSpp6Ue1",
    "outputId": "51d1df25-7211-49a7-adae-d6b6a37a9778"
   },
   "outputs": [
    {
     "data": {
      "image/png": "[encoded data removed]",
      "text/plain": [
       "<Figure size 504x360 with 2 Axes>"
      ]
     },
     "metadata": {
      "needs_background": "light"
     },
     "output_type": "display_data"
    }
   ],
   "source": [
    "cm_tv = pd.DataFrame(cm_tv, index=[0,1], columns=[0,1])\n",
    "cm_tv.index.name = 'Actual'\n",
    "cm_tv.columns.name = 'Predicted'\n",
    "plt.figure(figsize = (7,5))\n",
    "sns.heatmap(cm_tv,cmap= \"Blues\",annot = True, fmt='',xticklabels=[\"Negative Review 0\",\"Positive Reviews 1\"]\n",
    "            ,yticklabels=[\"Negative Review 0\",\"Positive Reviews 1\"])\n",
    "plt.title(\"CM for MNB Model WIth with TfidfVectorizer features\",color='red',size=14)\n",
    "plt.show()"
   ]
  },
  {
   "cell_type": "markdown",
   "metadata": {
    "id": "dL9KvstN6Ue2"
   },
   "source": [
    "### Accuracy of MNB by BOW and TFIDF "
   ]
  },
  {
   "cell_type": "code",
   "execution_count": 61,
   "metadata": {
    "colab": {
     "base_uri": "https://localhost:8080/",
     "height": 81
    },
    "id": "T48TxFfP6Ue2",
    "outputId": "d5cb90d6-e194-446e-bd80-98c39a68e559"
   },
   "outputs": [
    {
     "data": {
      "text/html": [
       "\n",
       "  <div id=\"df-23239951-1d8b-46ca-a8d7-14f09e9a9812\">\n",
       "    <div class=\"colab-df-container\">\n",
       "      <div>\n",
       "<style scoped>\n",
       "    .dataframe tbody tr th:only-of-type {\n",
       "        vertical-align: middle;\n",
       "    }\n",
       "\n",
       "    .dataframe tbody tr th {\n",
       "        vertical-align: top;\n",
       "    }\n",
       "\n",
       "    .dataframe thead th {\n",
       "        text-align: right;\n",
       "    }\n",
       "</style>\n",
       "<table border=\"1\" class=\"dataframe\">\n",
       "  <thead>\n",
       "    <tr style=\"text-align: right;\">\n",
       "      <th></th>\n",
       "      <th>MNB BOW score</th>\n",
       "      <th>MNB tfidf score</th>\n",
       "    </tr>\n",
       "  </thead>\n",
       "  <tbody>\n",
       "    <tr>\n",
       "      <th>0</th>\n",
       "      <td>96.32</td>\n",
       "      <td>95.56</td>\n",
       "    </tr>\n",
       "  </tbody>\n",
       "</table>\n",
       "</div>\n",
       "      <button class=\"colab-df-convert\" onclick=\"convertToInteractive('df-23239951-1d8b-46ca-a8d7-14f09e9a9812')\"\n",
       "              title=\"Convert this dataframe to an interactive table.\"\n",
       "              style=\"display:none;\">\n",
       "        \n",
       "  <svg xmlns=\"http://www.w3.org/2000/svg\" height=\"24px\"viewBox=\"0 0 24 24\"\n",
       "       width=\"24px\">\n",
       "    <path d=\"M0 0h24v24H0V0z\" fill=\"none\"/>\n",
       "    <path d=\"M18.56 5.44l.94 2.06.94-2.06 2.06-.94-2.06-.94-.94-2.06-.94 2.06-2.06.94zm-11 1L8.5 8.5l.94-2.06 2.06-.94-2.06-.94L8.5 2.5l-.94 2.06-2.06.94zm10 10l.94 2.06.94-2.06 2.06-.94-2.06-.94-.94-2.06-.94 2.06-2.06.94z\"/><path d=\"M17.41 7.96l-1.37-1.37c-.4-.4-.92-.59-1.43-.59-.52 0-1.04.2-1.43.59L10.3 9.45l-7.72 7.72c-.78.78-.78 2.05 0 2.83L4 21.41c.39.39.9.59 1.41.59.51 0 1.02-.2 1.41-.59l7.78-7.78 2.81-2.81c.8-.78.8-2.07 0-2.86zM5.41 20L4 18.59l7.72-7.72 1.47 1.35L5.41 20z\"/>\n",
       "  </svg>\n",
       "      </button>\n",
       "      \n",
       "  <style>\n",
       "    .colab-df-container {\n",
       "      display:flex;\n",
       "      flex-wrap:wrap;\n",
       "      gap: 12px;\n",
       "    }\n",
       "\n",
       "    .colab-df-convert {\n",
       "      background-color: #E8F0FE;\n",
       "      border: none;\n",
       "      border-radius: 50%;\n",
       "      cursor: pointer;\n",
       "      display: none;\n",
       "      fill: #1967D2;\n",
       "      height: 32px;\n",
       "      padding: 0 0 0 0;\n",
       "      width: 32px;\n",
       "    }\n",
       "\n",
       "    .colab-df-convert:hover {\n",
       "      background-color: #E2EBFA;\n",
       "      box-shadow: 0px 1px 2px rgba(60, 64, 67, 0.3), 0px 1px 3px 1px rgba(60, 64, 67, 0.15);\n",
       "      fill: #174EA6;\n",
       "    }\n",
       "\n",
       "    [theme=dark] .colab-df-convert {\n",
       "      background-color: #3B4455;\n",
       "      fill: #D2E3FC;\n",
       "    }\n",
       "\n",
       "    [theme=dark] .colab-df-convert:hover {\n",
       "      background-color: #434B5C;\n",
       "      box-shadow: 0px 1px 3px 1px rgba(0, 0, 0, 0.15);\n",
       "      filter: drop-shadow(0px 1px 2px rgba(0, 0, 0, 0.3));\n",
       "      fill: #FFFFFF;\n",
       "    }\n",
       "  </style>\n",
       "\n",
       "      <script>\n",
       "        const buttonEl =\n",
       "          document.querySelector('#df-23239951-1d8b-46ca-a8d7-14f09e9a9812 button.colab-df-convert');\n",
       "        buttonEl.style.display =\n",
       "          google.colab.kernel.accessAllowed ? 'block' : 'none';\n",
       "\n",
       "        async function convertToInteractive(key) {\n",
       "          const element = document.querySelector('#df-23239951-1d8b-46ca-a8d7-14f09e9a9812');\n",
       "          const dataTable =\n",
       "            await google.colab.kernel.invokeFunction('convertToInteractive',\n",
       "                                                     [key], {});\n",
       "          if (!dataTable) return;\n",
       "\n",
       "          const docLinkHtml = 'Like what you see? Visit the ' +\n",
       "            '<a target=\"_blank\" href=https://colab.research.google.com/notebooks/data_table.ipynb>data table notebook</a>'\n",
       "            + ' to learn more about interactive tables.';\n",
       "          element.innerHTML = '';\n",
       "          dataTable['output_type'] = 'display_data';\n",
       "          await google.colab.output.renderOutput(dataTable, element);\n",
       "          const docLink = document.createElement('div');\n",
       "          docLink.innerHTML = docLinkHtml;\n",
       "          element.appendChild(docLink);\n",
       "        }\n",
       "      </script>\n",
       "    </div>\n",
       "  </div>\n",
       "  "
      ],
      "text/plain": [
       "   MNB BOW score  MNB tfidf score\n",
       "0          96.32            95.56"
      ]
     },
     "execution_count": 61,
     "metadata": {},
     "output_type": "execute_result"
    }
   ],
   "source": [
    "df_results_mnb=pd.DataFrame({\"MNB BOW score\":[mnb_bow_score],\"MNB tfidf score\":[mnb_tfidf_score]})\n",
    "df_results_mnb=df_results_mnb.round(4)\n",
    "df_results_mnb=df_results_mnb*100\n",
    "df_results_mnb"
   ]
  },
  {
   "cell_type": "markdown",
   "metadata": {
    "id": "ASoAwDtO6Ue2"
   },
   "source": [
    "## II - Deep Learning NN"
   ]
  },
  {
   "cell_type": "markdown",
   "metadata": {
    "id": "RYMtY28m6Ue2"
   },
   "source": [
    "## Model-2"
   ]
  },
  {
   "cell_type": "code",
   "execution_count": 62,
   "metadata": {
    "id": "MJ_03eMIhWrF"
   },
   "outputs": [],
   "source": [
    "from tensorflow.keras.preprocessing.text import Tokenizer\n",
    "max_features=10000\n",
    "tok = text.Tokenizer(num_words=max_features)\n",
    "tok.fit_on_texts(X_train)"
   ]
  },
  {
   "cell_type": "code",
   "execution_count": 63,
   "metadata": {
    "colab": {
     "base_uri": "https://localhost:8080/"
    },
    "id": "mT6MmW2OnpKx",
    "outputId": "fd54c0cb-0b4c-4f13-ff79-3f4ce1f32130"
   },
   "outputs": [
    {
     "data": {
      "text/plain": [
       "81911"
      ]
     },
     "execution_count": 63,
     "metadata": {},
     "output_type": "execute_result"
    }
   ],
   "source": [
    "len(tok.index_word)"
   ]
  },
  {
   "cell_type": "code",
   "execution_count": 64,
   "metadata": {
    "colab": {
     "base_uri": "https://localhost:8080/"
    },
    "id": "xj8RjOp-nyYv",
    "outputId": "221aa2b8-9d47-49d2-eec8-4d7d4782911d"
   },
   "outputs": [
    {
     "data": {
      "text/plain": [
       "{1: 'not',\n",
       " 2: 'like',\n",
       " 3: 'time',\n",
       " 4: 'good',\n",
       " 5: 'character',\n",
       " 6: 'even',\n",
       " 7: 'get',\n",
       " 8: 'story',\n",
       " 9: 'see',\n",
       " 10: 'make',\n",
       " 11: 'really',\n",
       " 12: 'scene',\n",
       " 13: 'much',\n",
       " 14: 'well',\n",
       " 15: 'people',\n",
       " 16: 'great',\n",
       " 17: 'bad',\n",
       " 18: 'also',\n",
       " 19: 'first',\n",
       " 20: 'show',\n",
       " 21: 'way',\n",
       " 22: 'thing',\n",
       " 23: 'made',\n",
       " 24: 'think',\n",
       " 25: 'life',\n",
       " 26: 'go',\n",
       " 27: 'know',\n",
       " 28: 'never',\n",
       " 29: 'watch',\n",
       " 30: 'love',\n",
       " 31: 'many',\n",
       " 32: 'two',\n",
       " 33: 'actor',\n",
       " 34: 'seen',\n",
       " 35: 'say',\n",
       " 36: 'plot',\n",
       " 37: 'look',\n",
       " 38: 'end',\n",
       " 39: 'acting',\n",
       " 40: 'best',\n",
       " 41: 'little',\n",
       " 42: 'year',\n",
       " 43: 'ever',\n",
       " 44: 'better',\n",
       " 45: 'man',\n",
       " 46: 'come',\n",
       " 47: 'take',\n",
       " 48: 'still',\n",
       " 49: 'work',\n",
       " 50: 'part',\n",
       " 51: 'find',\n",
       " 52: 'something',\n",
       " 53: 'give',\n",
       " 54: 'lot',\n",
       " 55: 'want',\n",
       " 56: 'back',\n",
       " 57: 'guy',\n",
       " 58: 'real',\n",
       " 59: 'director',\n",
       " 60: 'watching',\n",
       " 61: 'performance',\n",
       " 62: 'woman',\n",
       " 63: 'play',\n",
       " 64: 'funny',\n",
       " 65: 'though',\n",
       " 66: 'actually',\n",
       " 67: 'another',\n",
       " 68: 'nothing',\n",
       " 69: 'going',\n",
       " 70: 'role',\n",
       " 71: 'u',\n",
       " 72: 'new',\n",
       " 73: 'old',\n",
       " 74: 'every',\n",
       " 75: 'agnot',\n",
       " 76: 'girl',\n",
       " 77: 'point',\n",
       " 78: 'fact',\n",
       " 79: 'cast',\n",
       " 80: 'got',\n",
       " 81: 'day',\n",
       " 82: 'pretty',\n",
       " 83: 'feel',\n",
       " 84: 'world',\n",
       " 85: 'thought',\n",
       " 86: 'quite',\n",
       " 87: 'seems',\n",
       " 88: 'comedy',\n",
       " 89: 'minute',\n",
       " 90: 'around',\n",
       " 91: 'young',\n",
       " 92: 'horror',\n",
       " 93: 'enough',\n",
       " 94: 'big',\n",
       " 95: 'right',\n",
       " 96: 'action',\n",
       " 97: 'may',\n",
       " 98: 'however',\n",
       " 99: 'bit',\n",
       " 100: 'fan',\n",
       " 101: 'star',\n",
       " 102: 'friend',\n",
       " 103: 'original',\n",
       " 104: 'line',\n",
       " 105: 'without',\n",
       " 106: 'long',\n",
       " 107: 'saw',\n",
       " 108: 'music',\n",
       " 109: 'always',\n",
       " 110: 'family',\n",
       " 111: 'must',\n",
       " 112: 'series',\n",
       " 113: 'almost',\n",
       " 114: 'least',\n",
       " 115: 'whole',\n",
       " 116: 'set',\n",
       " 117: 'script',\n",
       " 118: 'interesting',\n",
       " 119: 'kid',\n",
       " 120: 'try',\n",
       " 121: 'done',\n",
       " 122: 'kind',\n",
       " 123: 'far',\n",
       " 124: 'last',\n",
       " 125: 'anything',\n",
       " 126: 'shot',\n",
       " 127: 'start',\n",
       " 128: 'reason',\n",
       " 129: 'effect',\n",
       " 130: 'probably',\n",
       " 131: 'since',\n",
       " 132: 'put',\n",
       " 133: 'book',\n",
       " 134: 'might',\n",
       " 135: 'anyone',\n",
       " 136: 'child',\n",
       " 137: 'place',\n",
       " 138: 'away',\n",
       " 139: 'tv',\n",
       " 140: 'worst',\n",
       " 141: 'yet',\n",
       " 142: 'rather',\n",
       " 143: 'moment',\n",
       " 144: 'movie',\n",
       " 145: 'sure',\n",
       " 146: 'fun',\n",
       " 147: 'let',\n",
       " 148: 'played',\n",
       " 149: 'found',\n",
       " 150: 'audience',\n",
       " 151: 'idea',\n",
       " 152: 'need',\n",
       " 153: 'turn',\n",
       " 154: 'making',\n",
       " 155: 'tell',\n",
       " 156: 'especially',\n",
       " 157: 'trying',\n",
       " 158: 'believe',\n",
       " 159: 'course',\n",
       " 160: 'episode',\n",
       " 161: 'american',\n",
       " 162: 'dvd',\n",
       " 163: 'ending',\n",
       " 164: 'hard',\n",
       " 165: 'although',\n",
       " 166: 'job',\n",
       " 167: 'mean',\n",
       " 168: 'war',\n",
       " 169: 'everything',\n",
       " 170: 'different',\n",
       " 171: 'looking',\n",
       " 172: 'worth',\n",
       " 173: 'maybe',\n",
       " 174: 'someone',\n",
       " 175: 'mnot',\n",
       " 176: 'problem',\n",
       " 177: 'screen',\n",
       " 178: 'keep',\n",
       " 179: 'sense',\n",
       " 180: 'three',\n",
       " 181: 'true',\n",
       " 182: 'version',\n",
       " 183: 'watched',\n",
       " 184: 'everyone',\n",
       " 185: 'money',\n",
       " 186: 'together',\n",
       " 187: 'help',\n",
       " 188: 'said',\n",
       " 189: 'night',\n",
       " 190: 'boy',\n",
       " 191: 'instead',\n",
       " 192: 'second',\n",
       " 193: 'seem',\n",
       " 194: 'special',\n",
       " 195: 'later',\n",
       " 196: 'left',\n",
       " 197: 'john',\n",
       " 198: 'death',\n",
       " 199: 'seeing',\n",
       " 200: 'short',\n",
       " 201: 'wife',\n",
       " 202: 'hour',\n",
       " 203: 'laugh',\n",
       " 204: 'beautiful',\n",
       " 205: 'black',\n",
       " 206: 'lead',\n",
       " 207: 'house',\n",
       " 208: 'mind',\n",
       " 209: 'excellent',\n",
       " 210: 'sound',\n",
       " 211: 'le',\n",
       " 212: 'classic',\n",
       " 213: 'name',\n",
       " 214: 'viewer',\n",
       " 215: 'read',\n",
       " 216: 'high',\n",
       " 217: 'else',\n",
       " 218: 'simply',\n",
       " 219: 'completely',\n",
       " 220: 'piece',\n",
       " 221: 'nice',\n",
       " 222: 'father',\n",
       " 223: 'used',\n",
       " 224: 'poor',\n",
       " 225: 'along',\n",
       " 226: 'face',\n",
       " 227: 'production',\n",
       " 228: 'human',\n",
       " 229: 'picture',\n",
       " 230: 'eye',\n",
       " 231: 'home',\n",
       " 232: 'men',\n",
       " 233: 'couple',\n",
       " 234: 'song',\n",
       " 235: 'word',\n",
       " 236: 'given',\n",
       " 237: 'hollywood',\n",
       " 238: 'either',\n",
       " 239: 'enjoy',\n",
       " 240: 'use',\n",
       " 241: 'rest',\n",
       " 242: 'half',\n",
       " 243: 'head',\n",
       " 244: 'wrong',\n",
       " 245: 'boring',\n",
       " 246: 'kill',\n",
       " 247: 'stupid',\n",
       " 248: 'camera',\n",
       " 249: 'recommend',\n",
       " 250: 'hope',\n",
       " 251: 'truly',\n",
       " 252: 'dead',\n",
       " 253: 'school',\n",
       " 254: 'video',\n",
       " 255: 'next',\n",
       " 256: 'came',\n",
       " 257: 'full',\n",
       " 258: 'sex',\n",
       " 259: 'film',\n",
       " 260: 'understand',\n",
       " 261: 'remember',\n",
       " 262: 'getting',\n",
       " 263: 'dialogue',\n",
       " 264: 'run',\n",
       " 265: 'game',\n",
       " 266: 'hand',\n",
       " 267: 'person',\n",
       " 268: 'awful',\n",
       " 269: 'case',\n",
       " 270: 'terrible',\n",
       " 271: 'act',\n",
       " 272: 'sort',\n",
       " 273: 'perhaps',\n",
       " 274: 'attempt',\n",
       " 275: 'top',\n",
       " 276: 'fall',\n",
       " 277: 'wonderful',\n",
       " 278: 'playing',\n",
       " 279: 'budget',\n",
       " 280: 'mother',\n",
       " 281: 'title',\n",
       " 282: 'care',\n",
       " 283: 'often',\n",
       " 284: 'small',\n",
       " 285: 'review',\n",
       " 286: 'sequence',\n",
       " 287: 'joke',\n",
       " 288: 'others',\n",
       " 289: 'style',\n",
       " 290: 'flick',\n",
       " 291: 'went',\n",
       " 292: 'brother',\n",
       " 293: 'definitely',\n",
       " 294: 'perfect',\n",
       " 295: 'early',\n",
       " 296: 'absolutely',\n",
       " 297: 'certnotly',\n",
       " 298: 'become',\n",
       " 299: 'feeling',\n",
       " 300: 'liked',\n",
       " 301: 'killer',\n",
       " 302: 'example',\n",
       " 303: 'car',\n",
       " 304: 'entire',\n",
       " 305: 'loved',\n",
       " 306: 'supposed',\n",
       " 307: 'actress',\n",
       " 308: 'felt',\n",
       " 309: 'waste',\n",
       " 310: 'cinema',\n",
       " 311: 'writer',\n",
       " 312: 'drama',\n",
       " 313: 'quality',\n",
       " 314: 'art',\n",
       " 315: 'written',\n",
       " 316: 'entertnoting',\n",
       " 317: 'lost',\n",
       " 318: 'yes',\n",
       " 319: 'direction',\n",
       " 320: 'several',\n",
       " 321: 'beginning',\n",
       " 322: 'lack',\n",
       " 323: 'comment',\n",
       " 324: 'agnotst',\n",
       " 325: 'begin',\n",
       " 326: 'feature',\n",
       " 327: 'totally',\n",
       " 328: 'matter',\n",
       " 329: 'worse',\n",
       " 330: 'finally',\n",
       " 331: 'live',\n",
       " 332: 'seemed',\n",
       " 333: 'wanted',\n",
       " 334: 'side',\n",
       " 335: 'son',\n",
       " 336: 'becomes',\n",
       " 337: 'white',\n",
       " 338: 'favorite',\n",
       " 339: 'already',\n",
       " 340: 'murder',\n",
       " 341: 'based',\n",
       " 342: 'fight',\n",
       " 343: 'change',\n",
       " 344: 'humor',\n",
       " 345: 'dark',\n",
       " 346: 'evil',\n",
       " 347: 'final',\n",
       " 348: 'guess',\n",
       " 349: 'throughout',\n",
       " 350: 'called',\n",
       " 351: 'meet',\n",
       " 352: 'able',\n",
       " 353: 'relationship',\n",
       " 354: 'number',\n",
       " 355: 'oh',\n",
       " 356: 'fine',\n",
       " 357: 'hero',\n",
       " 358: 'city',\n",
       " 359: 'heart',\n",
       " 360: 'amazing',\n",
       " 361: 'low',\n",
       " 362: 'town',\n",
       " 363: 'experience',\n",
       " 364: 'writing',\n",
       " 365: 'horrible',\n",
       " 366: 'move',\n",
       " 367: 'michael',\n",
       " 368: 'despite',\n",
       " 369: 'type',\n",
       " 370: 'today',\n",
       " 371: 'genre',\n",
       " 372: 'unfortunately',\n",
       " 373: 'daughter',\n",
       " 374: 'call',\n",
       " 375: 'history',\n",
       " 376: 'hit',\n",
       " 377: 'one',\n",
       " 378: 'past',\n",
       " 379: 'talent',\n",
       " 380: 'voice',\n",
       " 381: 'gave',\n",
       " 382: 'group',\n",
       " 383: 'enjoyed',\n",
       " 384: 'cut',\n",
       " 385: 'add',\n",
       " 386: 'god',\n",
       " 387: 'expect',\n",
       " 388: 'age',\n",
       " 389: 'robert',\n",
       " 390: 'theme',\n",
       " 391: 'power',\n",
       " 392: 'behind',\n",
       " 393: 'sometimes',\n",
       " 394: 'brilliant',\n",
       " 395: 'save',\n",
       " 396: 'stuff',\n",
       " 397: 'chance',\n",
       " 398: 'wonder',\n",
       " 399: 'body',\n",
       " 400: 'situation',\n",
       " 401: 'event',\n",
       " 402: 'score',\n",
       " 403: 'obviously',\n",
       " 404: 'soon',\n",
       " 405: 'overall',\n",
       " 406: 'credit',\n",
       " 407: 'stop',\n",
       " 408: 'decent',\n",
       " 409: 'thinking',\n",
       " 410: 'killed',\n",
       " 411: 'directed',\n",
       " 412: 'question',\n",
       " 413: 'took',\n",
       " 414: 'late',\n",
       " 415: 'heard',\n",
       " 416: 'view',\n",
       " 417: 'happens',\n",
       " 418: 'level',\n",
       " 419: 'highly',\n",
       " 420: 'wish',\n",
       " 421: 'close',\n",
       " 422: 'element',\n",
       " 423: 'stand',\n",
       " 424: 'told',\n",
       " 425: 'talk',\n",
       " 426: 'documentary',\n",
       " 427: 'except',\n",
       " 428: 'particularly',\n",
       " 429: 'monster',\n",
       " 430: 'blood',\n",
       " 431: 'order',\n",
       " 432: 'leave',\n",
       " 433: 'police',\n",
       " 434: 'interest',\n",
       " 435: 'coming',\n",
       " 436: 'including',\n",
       " 437: 'involved',\n",
       " 438: 'obvious',\n",
       " 439: 'extremely',\n",
       " 440: 'country',\n",
       " 441: 'david',\n",
       " 442: 'career',\n",
       " 443: 'looked',\n",
       " 444: 'musical',\n",
       " 445: 'novel',\n",
       " 446: 'reality',\n",
       " 447: 'strong',\n",
       " 448: 'living',\n",
       " 449: 'twist',\n",
       " 450: 'deal',\n",
       " 451: 'simple',\n",
       " 452: 'cool',\n",
       " 453: 'taken',\n",
       " 454: 'husband',\n",
       " 455: 'serious',\n",
       " 456: 'shown',\n",
       " 457: 'happen',\n",
       " 458: 'james',\n",
       " 459: 'effort',\n",
       " 460: 'light',\n",
       " 461: 'theater',\n",
       " 462: 'hell',\n",
       " 463: 'opinion',\n",
       " 464: 'complete',\n",
       " 465: 'female',\n",
       " 466: 'hilarious',\n",
       " 467: 'etc',\n",
       " 468: 'happened',\n",
       " 469: 'violence',\n",
       " 470: 'lady',\n",
       " 471: 'sister',\n",
       " 472: 'exactly',\n",
       " 473: 'across',\n",
       " 474: 'opening',\n",
       " 475: 'sequel',\n",
       " 476: 'saying',\n",
       " 477: 'dialog',\n",
       " 478: 'ago',\n",
       " 479: 'rating',\n",
       " 480: 'please',\n",
       " 481: 'cinematography',\n",
       " 482: 'known',\n",
       " 483: 'crap',\n",
       " 484: 'room',\n",
       " 485: 'whose',\n",
       " 486: 'zombie',\n",
       " 487: 'slow',\n",
       " 488: 'usually',\n",
       " 489: 'released',\n",
       " 490: 'none',\n",
       " 491: 'annoying',\n",
       " 492: 'alone',\n",
       " 493: 'possible',\n",
       " 494: 'local',\n",
       " 495: 'value',\n",
       " 496: 'miss',\n",
       " 497: 'running',\n",
       " 498: 'huge',\n",
       " 499: 'sad',\n",
       " 500: 'cop',\n",
       " 501: 'english',\n",
       " 502: 'anyway',\n",
       " 503: 'dog',\n",
       " 504: 'seriously',\n",
       " 505: 'started',\n",
       " 506: 'stay',\n",
       " 507: 'taking',\n",
       " 508: 'mostly',\n",
       " 509: 'message',\n",
       " 510: 'gore',\n",
       " 511: 'major',\n",
       " 512: 'somewhat',\n",
       " 513: 'tale',\n",
       " 514: 'due',\n",
       " 515: 'thriller',\n",
       " 516: 'knew',\n",
       " 517: 'ridiculous',\n",
       " 518: 'strange',\n",
       " 519: 'turned',\n",
       " 520: 'beyond',\n",
       " 521: 'usual',\n",
       " 522: 'king',\n",
       " 523: 'important',\n",
       " 524: 'dream',\n",
       " 525: 'hate',\n",
       " 526: 'silly',\n",
       " 527: 'return',\n",
       " 528: 'appnottly',\n",
       " 529: 'spoiler',\n",
       " 530: 'open',\n",
       " 531: 'talking',\n",
       " 532: 'comic',\n",
       " 533: 'mention',\n",
       " 534: 'surprise',\n",
       " 535: 'producer',\n",
       " 536: 'ok',\n",
       " 537: 'image',\n",
       " 538: 'street',\n",
       " 539: 'attention',\n",
       " 540: 'george',\n",
       " 541: 'team',\n",
       " 542: 'upon',\n",
       " 543: 'single',\n",
       " 544: 'four',\n",
       " 545: 'jack',\n",
       " 546: 'result',\n",
       " 547: 'clearly',\n",
       " 548: 'subject',\n",
       " 549: 'happy',\n",
       " 550: 'basically',\n",
       " 551: 'disappointed',\n",
       " 552: 'cheap',\n",
       " 553: 'scary',\n",
       " 554: 'television',\n",
       " 555: 'figure',\n",
       " 556: 'season',\n",
       " 557: 'modern',\n",
       " 558: 'member',\n",
       " 559: 'release',\n",
       " 560: 'british',\n",
       " 561: 'hold',\n",
       " 562: 'pnotts',\n",
       " 563: 'state',\n",
       " 564: 'rock',\n",
       " 565: 'whether',\n",
       " 566: 'filmmaker',\n",
       " 567: 'doubt',\n",
       " 568: 'giving',\n",
       " 569: 'easily',\n",
       " 570: 'french',\n",
       " 571: 'predictable',\n",
       " 572: 'crime',\n",
       " 573: 'peter',\n",
       " 574: 'western',\n",
       " 575: 'form',\n",
       " 576: 'viewing',\n",
       " 577: 'earth',\n",
       " 578: 'ten',\n",
       " 579: 'supporting',\n",
       " 580: 'drug',\n",
       " 581: 'space',\n",
       " 582: 'oscar',\n",
       " 583: 'soundtrack',\n",
       " 584: 'appears',\n",
       " 585: 'killing',\n",
       " 586: 'future',\n",
       " 587: 'mystery',\n",
       " 588: 'showing',\n",
       " 589: 'aspect',\n",
       " 590: 'similar',\n",
       " 591: 'tried',\n",
       " 592: 'romantic',\n",
       " 593: 'storyline',\n",
       " 594: 'bring',\n",
       " 595: 'clear',\n",
       " 596: 'entertnotment',\n",
       " 597: 'class',\n",
       " 598: 'buy',\n",
       " 599: 'enjoyable',\n",
       " 600: 'bunch',\n",
       " 601: 'certnot',\n",
       " 602: 'gun',\n",
       " 603: 'break',\n",
       " 604: 'within',\n",
       " 605: 'moving',\n",
       " 606: 'adult',\n",
       " 607: 'emotion',\n",
       " 608: 'surprised',\n",
       " 609: 'dull',\n",
       " 610: 'doctor',\n",
       " 611: 'five',\n",
       " 612: 'filmed',\n",
       " 613: 'among',\n",
       " 614: 'soldier',\n",
       " 615: 'sorry',\n",
       " 616: 'easy',\n",
       " 617: 'general',\n",
       " 618: 'working',\n",
       " 619: 'greatest',\n",
       " 620: 'named',\n",
       " 621: 'note',\n",
       " 622: 'material',\n",
       " 623: 'typical',\n",
       " 624: 'present',\n",
       " 625: 'middle',\n",
       " 626: 'kept',\n",
       " 627: 'brought',\n",
       " 628: 'force',\n",
       " 629: 'setting',\n",
       " 630: 'near',\n",
       " 631: 'actual',\n",
       " 632: 'gone',\n",
       " 633: 'student',\n",
       " 634: 'nearly',\n",
       " 635: 'fantastic',\n",
       " 636: 'realistic',\n",
       " 637: 'richard',\n",
       " 638: 'victim',\n",
       " 639: 'mark',\n",
       " 640: 'period',\n",
       " 641: 'dance',\n",
       " 642: 'cartoon',\n",
       " 643: 'premise',\n",
       " 644: 'suspense',\n",
       " 645: 'detail',\n",
       " 646: 'battle',\n",
       " 647: 'standard',\n",
       " 648: 'using',\n",
       " 649: 'check',\n",
       " 650: 'wait',\n",
       " 651: 'straight',\n",
       " 652: 'offer',\n",
       " 653: 'die',\n",
       " 654: 'famous',\n",
       " 655: 'rent',\n",
       " 656: 'imagine',\n",
       " 657: 'editing',\n",
       " 658: 'truth',\n",
       " 659: 'learn',\n",
       " 660: 'paul',\n",
       " 661: 'fit',\n",
       " 662: 'tom',\n",
       " 663: 'somehow',\n",
       " 664: 'hear',\n",
       " 665: 'animation',\n",
       " 666: 'issue',\n",
       " 667: 'copy',\n",
       " 668: 'escape',\n",
       " 669: 'forget',\n",
       " 670: 'particular',\n",
       " 671: 'sit',\n",
       " 672: 'america',\n",
       " 673: 'weak',\n",
       " 674: 'leaf',\n",
       " 675: 'water',\n",
       " 676: 'okay',\n",
       " 677: 'vampire',\n",
       " 678: 'romance',\n",
       " 679: 'male',\n",
       " 680: 'masterpiece',\n",
       " 681: 'expected',\n",
       " 682: 'atmosphere',\n",
       " 683: 'york',\n",
       " 684: 'believable',\n",
       " 685: 'stage',\n",
       " 686: 'decided',\n",
       " 687: 'alien',\n",
       " 688: 'pay',\n",
       " 689: 'de',\n",
       " 690: 'german',\n",
       " 691: 'background',\n",
       " 692: 'fast',\n",
       " 693: 'indeed',\n",
       " 694: 'walk',\n",
       " 695: 'society',\n",
       " 696: 'gay',\n",
       " 697: 'reading',\n",
       " 698: 'lame',\n",
       " 699: 'baby',\n",
       " 700: 'studio',\n",
       " 701: 'screenplay',\n",
       " 702: 'possibly',\n",
       " 703: 'red',\n",
       " 704: 'eventually',\n",
       " 705: 'forced',\n",
       " 706: 'deep',\n",
       " 707: 'focus',\n",
       " 708: 'secret',\n",
       " 709: 'footage',\n",
       " 710: 'crew',\n",
       " 711: 'party',\n",
       " 712: 'whatever',\n",
       " 713: 'poorly',\n",
       " 714: 'cover',\n",
       " 715: 'average',\n",
       " 716: 'difficult',\n",
       " 717: 'imdb',\n",
       " 718: 'shame',\n",
       " 719: 'cause',\n",
       " 720: 'avoid',\n",
       " 721: 'follow',\n",
       " 722: 'unless',\n",
       " 723: 'emotional',\n",
       " 724: 'needed',\n",
       " 725: 'became',\n",
       " 726: 'sexual',\n",
       " 727: 'box',\n",
       " 728: 'third',\n",
       " 729: 'beauty',\n",
       " 730: 'interested',\n",
       " 731: 'previous',\n",
       " 732: 'choice',\n",
       " 733: 'lee',\n",
       " 734: 'wood',\n",
       " 735: 'accent',\n",
       " 736: 'write',\n",
       " 737: 'superb',\n",
       " 738: 'nature',\n",
       " 739: 'memorable',\n",
       " 740: 'amount',\n",
       " 741: 'total',\n",
       " 742: 'weird',\n",
       " 743: 'development',\n",
       " 744: 'week',\n",
       " 745: 'touch',\n",
       " 746: 'lover',\n",
       " 747: 'bill',\n",
       " 748: 'location',\n",
       " 749: 'earlier',\n",
       " 750: 'personal',\n",
       " 751: 'realize',\n",
       " 752: 'island',\n",
       " 753: 'older',\n",
       " 754: 'worked',\n",
       " 755: 'win',\n",
       " 756: 'otherwise',\n",
       " 757: 'match',\n",
       " 758: 'cheesy',\n",
       " 759: 'inside',\n",
       " 760: 'perfectly',\n",
       " 761: 'hot',\n",
       " 762: 'crazy',\n",
       " 763: 'plan',\n",
       " 764: 'japanese',\n",
       " 765: 'dnotey',\n",
       " 766: 'remake',\n",
       " 767: 'unique',\n",
       " 768: 'animal',\n",
       " 769: 'air',\n",
       " 770: 'plus',\n",
       " 771: 'towards',\n",
       " 772: 'business',\n",
       " 773: 'badly',\n",
       " 774: 'various',\n",
       " 775: 'b',\n",
       " 776: 'front',\n",
       " 777: 'free',\n",
       " 778: 'company',\n",
       " 779: 'joe',\n",
       " 780: 'incredibly',\n",
       " 781: 'adventure',\n",
       " 782: 'quickly',\n",
       " 783: 'fear',\n",
       " 784: 'creepy',\n",
       " 785: 'master',\n",
       " 786: 'cry',\n",
       " 787: 'girlfriend',\n",
       " 788: 'brings',\n",
       " 789: 'rich',\n",
       " 790: 'fantasy',\n",
       " 791: 'fire',\n",
       " 792: 'following',\n",
       " 793: 'pick',\n",
       " 794: 'plenty',\n",
       " 795: 'project',\n",
       " 796: 'appear',\n",
       " 797: 'directing',\n",
       " 798: 'dumb',\n",
       " 799: 'ask',\n",
       " 800: 'mess',\n",
       " 801: 'leading',\n",
       " 802: 'portrayed',\n",
       " 803: 'forward',\n",
       " 804: 'success',\n",
       " 805: 'admit',\n",
       " 806: 'award',\n",
       " 807: 'powerful',\n",
       " 808: 'dramatic',\n",
       " 809: 'spent',\n",
       " 810: 'portrayal',\n",
       " 811: 'term',\n",
       " 812: 'fairly',\n",
       " 813: 'costume',\n",
       " 814: 'outside',\n",
       " 815: 'memory',\n",
       " 816: 'rate',\n",
       " 817: 'acted',\n",
       " 818: 'caught',\n",
       " 819: 'chase',\n",
       " 820: 'trouble',\n",
       " 821: 'appearance',\n",
       " 822: 'throw',\n",
       " 823: 'hardly',\n",
       " 824: 'political',\n",
       " 825: 'band',\n",
       " 826: 'wasted',\n",
       " 827: 'agree',\n",
       " 828: 'william',\n",
       " 829: 'manages',\n",
       " 830: 'teen',\n",
       " 831: 'create',\n",
       " 832: 'recently',\n",
       " 833: 'deserves',\n",
       " 834: 'expecting',\n",
       " 835: 'fighting',\n",
       " 836: 'creature',\n",
       " 837: 'fails',\n",
       " 838: 'meant',\n",
       " 839: 'ended',\n",
       " 840: 'missing',\n",
       " 841: 'ability',\n",
       " 842: 'list',\n",
       " 843: 'italian',\n",
       " 844: 'large',\n",
       " 845: 'clever',\n",
       " 846: 'pure',\n",
       " 847: 'laughing',\n",
       " 848: 'pace',\n",
       " 849: 'store',\n",
       " 850: 'la',\n",
       " 851: 'attack',\n",
       " 852: 'pull',\n",
       " 853: 'concept',\n",
       " 854: 'stick',\n",
       " 855: 'ghost',\n",
       " 856: 'apart',\n",
       " 857: 'potential',\n",
       " 858: 'died',\n",
       " 859: 'telling',\n",
       " 860: 'public',\n",
       " 861: 'era',\n",
       " 862: 'talented',\n",
       " 863: 'plnot',\n",
       " 864: 'cat',\n",
       " 865: 'mistake',\n",
       " 866: 'hole',\n",
       " 867: 'spirit',\n",
       " 868: 'channel',\n",
       " 869: 'language',\n",
       " 870: 'created',\n",
       " 871: 'odd',\n",
       " 872: 'shoot',\n",
       " 873: 'villnot',\n",
       " 874: 'considering',\n",
       " 875: 'casting',\n",
       " 876: 'office',\n",
       " 877: 'cute',\n",
       " 878: 'nudity',\n",
       " 879: 'indian',\n",
       " 880: 'waiting',\n",
       " 881: 'van',\n",
       " 882: 'flat',\n",
       " 883: 'player',\n",
       " 884: 'depth',\n",
       " 885: 'tension',\n",
       " 886: 'unlike',\n",
       " 887: 'visual',\n",
       " 888: 'color',\n",
       " 889: 'blue',\n",
       " 890: 'decides',\n",
       " 891: 'catch',\n",
       " 892: 'century',\n",
       " 893: 'missed',\n",
       " 894: 'gang',\n",
       " 895: 'incredible',\n",
       " 896: 'door',\n",
       " 897: 'popular',\n",
       " 898: 'married',\n",
       " 899: 'familiar',\n",
       " 900: 'extra',\n",
       " 901: 'basic',\n",
       " 902: 'respect',\n",
       " 903: 'trnot',\n",
       " 904: 'us',\n",
       " 905: 'suddenly',\n",
       " 906: 'scott',\n",
       " 907: 'neither',\n",
       " 908: 'slightly',\n",
       " 909: 'sweet',\n",
       " 910: 'soul',\n",
       " 911: 'wrote',\n",
       " 912: 'mentioned',\n",
       " 913: 'bored',\n",
       " 914: 'answer',\n",
       " 915: 'entirely',\n",
       " 916: 'control',\n",
       " 917: 'speak',\n",
       " 918: 'appreciate',\n",
       " 919: 'culture',\n",
       " 920: 'follows',\n",
       " 921: 'sadly',\n",
       " 922: 'lie',\n",
       " 923: 'filled',\n",
       " 924: 'critic',\n",
       " 925: 'camp',\n",
       " 926: 'former',\n",
       " 927: 'younger',\n",
       " 928: 'violent',\n",
       " 929: 'positive',\n",
       " 930: 'convincing',\n",
       " 931: 'biggest',\n",
       " 932: 'maker',\n",
       " 933: 'purpose',\n",
       " 934: 'drive',\n",
       " 935: 'produced',\n",
       " 936: 'meaning',\n",
       " 937: 'belief',\n",
       " 938: 'science',\n",
       " 939: 'compared',\n",
       " 940: 'building',\n",
       " 941: 'taste',\n",
       " 942: 'common',\n",
       " 943: 'hair',\n",
       " 944: 'park',\n",
       " 945: 'track',\n",
       " 946: 'tone',\n",
       " 947: 'alive',\n",
       " 948: 'million',\n",
       " 949: 'dancing',\n",
       " 950: 'adaptation',\n",
       " 951: 'intelligent',\n",
       " 952: 'recent',\n",
       " 953: 'college',\n",
       " 954: 'fake',\n",
       " 955: 'social',\n",
       " 956: 'longer',\n",
       " 957: 'spend',\n",
       " 958: 'cold',\n",
       " 959: 'bother',\n",
       " 960: 'flaw',\n",
       " 961: 'showed',\n",
       " 962: 'solid',\n",
       " 963: 'successful',\n",
       " 964: 'bizarre',\n",
       " 965: 'trip',\n",
       " 966: 'jane',\n",
       " 967: 'yeah',\n",
       " 968: 'teenager',\n",
       " 969: 'singing',\n",
       " 970: 'sick',\n",
       " 971: 'consider',\n",
       " 972: 'christmas',\n",
       " 973: 'pointless',\n",
       " 974: 'awesome',\n",
       " 975: 'conclusion',\n",
       " 976: 'land',\n",
       " 977: 'suck',\n",
       " 978: 'mad',\n",
       " 979: 'involving',\n",
       " 980: 'decide',\n",
       " 981: 'amusing',\n",
       " 982: 'appeal',\n",
       " 983: 'mood',\n",
       " 984: 'carry',\n",
       " 985: 'honest',\n",
       " 986: 'changed',\n",
       " 987: 'ben',\n",
       " 988: 'ride',\n",
       " 989: 'scientist',\n",
       " 990: 'journey',\n",
       " 991: 'exciting',\n",
       " 992: 'law',\n",
       " 993: 'road',\n",
       " 994: 'failed',\n",
       " 995: 'aside',\n",
       " 996: 'effective',\n",
       " 997: 'slasher',\n",
       " 998: 'barely',\n",
       " 999: 'dad',\n",
       " 1000: 'bed',\n",
       " ...}"
      ]
     },
     "execution_count": 64,
     "metadata": {},
     "output_type": "execute_result"
    }
   ],
   "source": [
    "dict(tok.index_word)"
   ]
  },
  {
   "cell_type": "code",
   "execution_count": 65,
   "metadata": {
    "id": "1-Oqchpenj5f"
   },
   "outputs": [],
   "source": [
    "tok_X_train = tok.texts_to_sequences(X_train)\n",
    "tok_X_test = tok.texts_to_sequences(X_test)"
   ]
  },
  {
   "cell_type": "code",
   "execution_count": 66,
   "metadata": {
    "colab": {
     "base_uri": "https://localhost:8080/"
    },
    "id": "QYLS9m5QoBRn",
    "outputId": "7e74ec89-ac78-4b60-b290-0c7071319d1b"
   },
   "outputs": [
    {
     "data": {
      "text/plain": [
       "39665"
      ]
     },
     "execution_count": 66,
     "metadata": {},
     "output_type": "execute_result"
    }
   ],
   "source": [
    "len(tok_X_train)"
   ]
  },
  {
   "cell_type": "code",
   "execution_count": 67,
   "metadata": {
    "colab": {
     "base_uri": "https://localhost:8080/"
    },
    "id": "2OuEOmcJoqFv",
    "outputId": "b6ab6567-e652-4831-e473-ac8cb72e934c"
   },
   "outputs": [
    {
     "data": {
      "text/plain": [
       "[1607,\n",
       " 136,\n",
       " 1514,\n",
       " 2052,\n",
       " 19,\n",
       " 131,\n",
       " 5166,\n",
       " 1395,\n",
       " 500,\n",
       " 6,\n",
       " 65,\n",
       " 4,\n",
       " 500,\n",
       " 146,\n",
       " 532,\n",
       " 781,\n",
       " 2052,\n",
       " 101,\n",
       " 317,\n",
       " 136,\n",
       " 4507,\n",
       " 1545,\n",
       " 269,\n",
       " 5258,\n",
       " 51,\n",
       " 281,\n",
       " 5,\n",
       " 136,\n",
       " 6552,\n",
       " 391,\n",
       " 3648,\n",
       " 5166,\n",
       " 1395,\n",
       " 500,\n",
       " 3318,\n",
       " 3971,\n",
       " 131,\n",
       " 50,\n",
       " 63,\n",
       " 2,\n",
       " 781,\n",
       " 1684,\n",
       " 2,\n",
       " 5931,\n",
       " 1122,\n",
       " 88,\n",
       " 80,\n",
       " 88,\n",
       " 203,\n",
       " 781,\n",
       " 194,\n",
       " 129,\n",
       " 54,\n",
       " 146,\n",
       " 544]"
      ]
     },
     "execution_count": 67,
     "metadata": {},
     "output_type": "execute_result"
    }
   ],
   "source": [
    "tok_X_test[25]"
   ]
  },
  {
   "cell_type": "code",
   "execution_count": 68,
   "metadata": {
    "id": "O6oxoMtwjkV6",
    "scrolled": true
   },
   "outputs": [],
   "source": [
    "from keras_preprocessing.sequence import pad_sequences\n",
    "max_len=295\n",
    "padd_X_train = pad_sequences(tok_X_train, maxlen=max_len)\n",
    "padd_X_test = pad_sequences(tok_X_test, maxlen=max_len)"
   ]
  },
  {
   "cell_type": "code",
   "execution_count": 69,
   "metadata": {
    "colab": {
     "base_uri": "https://localhost:8080/"
    },
    "id": "g0NufKlojkYZ",
    "outputId": "41902102-59a1-4ce3-e22f-fd258237d172"
   },
   "outputs": [
    {
     "data": {
      "text/plain": [
       "array([   0,    0,    0,    0,    0,    0,    0,    0,    0,    0,    0,\n",
       "          0,    0,    0,    0,    0,    0,    0,    0,    0,    0,    0,\n",
       "          0,    0,    0,    0,    0,    0,    0,    0,    0,    0,    0,\n",
       "          0,    0,    0,    0,    0,    0,    0,    0,    0,    0,    0,\n",
       "          0,    0,    0,    0,    0,    0,    0,    0,    0,    0,    0,\n",
       "          0,    0,    0,    0,    0,    0,    0,    0,    0,    0,    0,\n",
       "          0,    0,    0,    0,    0,    0,    0,    0,    0,    0,    0,\n",
       "          0,    0,    0,    0,    0,    0,    0,    0,    0,    0,    0,\n",
       "          0,    0,    0,    0,    0,    0,    0,    0,    0,    0,    0,\n",
       "          0,    0,    0,    0,    0,    0,    0,    0,    0,    0,    0,\n",
       "          0,    0,    0,    0,    0,    0,    0,    0,    0,    0,    0,\n",
       "          0,    0,    0,    0,    0,    0,    0,    0,    0,    0,    0,\n",
       "          0,    0,    0,    0,    0,    0,    0,    0,    0,    0,    0,\n",
       "          0,    0,    0,    0,    0,    0,    0,    0,    0,    0,    0,\n",
       "          0,    0,    0,    0,    0,    0,    0,    0,    0,    0,    0,\n",
       "          0,    0,    0,    0,    0,    0,    0,    0,    0,    0,    0,\n",
       "          0,    0,    0,    0,    0,    0,    0,    0,    0,    0,    0,\n",
       "          0,    0,    0,    0,    0,    0,    0,    0,    0,    0,    0,\n",
       "          0,    0,    0,    0,    0,    0,    0,    0,    0,    0,    0,\n",
       "          0,    0,    0,    0,    0,    0,    0,    0,    0,    0,    0,\n",
       "          0,    0,    0,    0,    0,    0,    0,    0,    0,    0,    0,\n",
       "          0,    0,    0,    0,    0,    0,    0,    0,    0,  971,   82,\n",
       "         94, 2065,   12,   20,  218,   20,   98,  249,  702,  103,  112,\n",
       "       1026,   80,  169,  799,  334,    8,  917,   30, 6936, 3647,   88,\n",
       "         14,  132,  186,  380,   39,   79,  764,  161, 3377, 1727,   64,\n",
       "        589,   67,  211, 1564,  525,   15,   34, 1471,  112,   38, 2081,\n",
       "        169,  799, 2320, 1836,  207,  112, 1381, 5460,  239], dtype=int32)"
      ]
     },
     "execution_count": 69,
     "metadata": {},
     "output_type": "execute_result"
    }
   ],
   "source": [
    "padd_X_train[10]"
   ]
  },
  {
   "cell_type": "code",
   "execution_count": 70,
   "metadata": {
    "id": "7AAIPSyGjka4"
   },
   "outputs": [],
   "source": [
    "#create model "
   ]
  },
  {
   "cell_type": "code",
   "execution_count": 71,
   "metadata": {
    "id": "8KByVQ-z6Ue4"
   },
   "outputs": [],
   "source": [
    "from tensorflow.keras.layers import Embedding,SimpleRNN,Dense,Dropout"
   ]
  },
  {
   "cell_type": "code",
   "execution_count": 72,
   "metadata": {
    "id": "lAuVC-qU6Ue4"
   },
   "outputs": [],
   "source": [
    "voc_size=10000\n",
    "embedding_vec_features=50\n",
    "model = Sequential()\n",
    "\n",
    "#Embedding Layer\n",
    "model.add(Embedding(input_dim=voc_size,output_dim=50,input_length=295))\n",
    "\n",
    "#LSTM\n",
    "model.add(LSTM(units=128 , return_sequences = True , recurrent_dropout = 0.25 , dropout = 0.25,activation='tanh'))\n",
    "model.add(LSTM(units=64 , recurrent_dropout = 0.15, dropout = 0.15, activation='tanh'))\n",
    "model.add(Dense(units=32 , activation = 'relu'))\n",
    "model.add(Dense(units=16 , activation = 'relu'))\n",
    "model.add(Dense(1,activation='sigmoid'))\n",
    "\n",
    "#compile model\n",
    "model.compile(optimizer='adam', loss='binary_crossentropy', metrics=['accuracy'])"
   ]
  },
  {
   "cell_type": "code",
   "execution_count": 73,
   "metadata": {
    "colab": {
     "base_uri": "https://localhost:8080/"
    },
    "id": "9nK5v-mTo8om",
    "outputId": "58415302-b072-4ec5-a445-73953ede50f3"
   },
   "outputs": [
    {
     "name": "stdout",
     "output_type": "stream",
     "text": [
      "Model: \"sequential\"\n",
      "_________________________________________________________________\n",
      " Layer (type)                Output Shape              Param #   \n",
      "=================================================================\n",
      " embedding (Embedding)       (None, 295, 50)           500000    \n",
      "                                                                 \n",
      " lstm (LSTM)                 (None, 295, 128)          91648     \n",
      "                                                                 \n",
      " lstm_1 (LSTM)               (None, 64)                49408     \n",
      "                                                                 \n",
      " dense (Dense)               (None, 32)                2080      \n",
      "                                                                 \n",
      " dense_1 (Dense)             (None, 16)                528       \n",
      "                                                                 \n",
      " dense_2 (Dense)             (None, 1)                 17        \n",
      "                                                                 \n",
      "=================================================================\n",
      "Total params: 643,681\n",
      "Trainable params: 643,681\n",
      "Non-trainable params: 0\n",
      "_________________________________________________________________\n"
     ]
    }
   ],
   "source": [
    "model.summary()"
   ]
  },
  {
   "cell_type": "code",
   "execution_count": 74,
   "metadata": {
    "id": "0776Aamko8rG"
   },
   "outputs": [],
   "source": [
    "from tensorflow.keras.callbacks import EarlyStopping             \n",
    "#create callback : -\n",
    "cb=EarlyStopping(\n",
    "    monitor=\"val_accuracy\",  #val_loss means testing error\n",
    "    min_delta=0.00001, #value of lambda \n",
    "    patience=2,\n",
    "    verbose=1,\n",
    "    mode=\"auto\", #minimize loss  #maximize accuracy\n",
    "    baseline=None,\n",
    "    restore_best_weights=False\n",
    ")"
   ]
  },
  {
   "cell_type": "code",
   "execution_count": 75,
   "metadata": {
    "colab": {
     "base_uri": "https://localhost:8080/"
    },
    "id": "bu0JvePw6Ue4",
    "outputId": "94f32ddc-efa6-49e8-e80b-ff1ac4988e4f"
   },
   "outputs": [
    {
     "name": "stdout",
     "output_type": "stream",
     "text": [
      "Epoch 1/5\n",
      "80/80 [==============================] - 677s 8s/step - loss: 0.3065 - accuracy: 0.8743 - val_loss: 0.1060 - val_accuracy: 0.9597\n",
      "Epoch 2/5\n",
      "80/80 [==============================] - 670s 8s/step - loss: 0.0663 - accuracy: 0.9778 - val_loss: 0.1003 - val_accuracy: 0.9661\n",
      "Epoch 3/5\n",
      "80/80 [==============================] - 661s 8s/step - loss: 0.0560 - accuracy: 0.9811 - val_loss: 0.1416 - val_accuracy: 0.9467\n",
      "Epoch 4/5\n",
      "80/80 [==============================] - 654s 8s/step - loss: 0.0451 - accuracy: 0.9850 - val_loss: 0.0771 - val_accuracy: 0.9730\n",
      "Epoch 5/5\n",
      "80/80 [==============================] - 638s 8s/step - loss: 0.0192 - accuracy: 0.9939 - val_loss: 0.0984 - val_accuracy: 0.9708\n"
     ]
    }
   ],
   "source": [
    "train_model=model.fit(padd_X_train, Y_train, batch_size = 500 , validation_data = (padd_X_test,Y_test) , epochs = 5 , callbacks = [cb])"
   ]
  },
  {
   "cell_type": "code",
   "execution_count": 76,
   "metadata": {
    "colab": {
     "base_uri": "https://localhost:8080/"
    },
    "id": "-qVspcNvo8wO",
    "outputId": "e4849aa7-5f25-4e4e-ed92-1d0f924e83fb"
   },
   "outputs": [
    {
     "data": {
      "text/plain": [
       "39665"
      ]
     },
     "execution_count": 76,
     "metadata": {},
     "output_type": "execute_result"
    }
   ],
   "source": [
    "len(Y_train)"
   ]
  },
  {
   "cell_type": "code",
   "execution_count": 77,
   "metadata": {
    "colab": {
     "base_uri": "https://localhost:8080/"
    },
    "id": "Gz5VK3JAjkfh",
    "outputId": "e6dd7623-03c7-46ae-9a82-2ad09c2933e2"
   },
   "outputs": [
    {
     "data": {
      "text/plain": [
       "39665"
      ]
     },
     "execution_count": 77,
     "metadata": {},
     "output_type": "execute_result"
    }
   ],
   "source": [
    "len(padd_X_train)"
   ]
  },
  {
   "cell_type": "markdown",
   "metadata": {
    "id": "p7NB-Ygm6Ue4"
   },
   "source": [
    "### Model Evaluation LSTM"
   ]
  },
  {
   "cell_type": "code",
   "execution_count": 78,
   "metadata": {
    "colab": {
     "base_uri": "https://localhost:8080/"
    },
    "id": "N3fbLa14Dmdj",
    "outputId": "41281b81-cf8c-48f6-c664-9a4beff8ed8a"
   },
   "outputs": [
    {
     "name": "stdout",
     "output_type": "stream",
     "text": [
      "1240/1240 [==============================] - 183s 148ms/step - loss: 0.0135 - accuracy: 0.9957\n"
     ]
    }
   ],
   "source": [
    "train=model.evaluate(padd_X_train, Y_train)"
   ]
  },
  {
   "cell_type": "code",
   "execution_count": 79,
   "metadata": {
    "colab": {
     "base_uri": "https://localhost:8080/"
    },
    "id": "2SbwLd-wDy6R",
    "outputId": "85137c8f-8951-4532-ffe0-8b0987f28657"
   },
   "outputs": [
    {
     "name": "stdout",
     "output_type": "stream",
     "text": [
      "Training accuracy : 0.9957141280174255\n",
      "Training loss : 0.013511814177036285\n"
     ]
    }
   ],
   "source": [
    "print(\"Training accuracy :\",train[1])\n",
    "print(\"Training loss :\",train[0])"
   ]
  },
  {
   "cell_type": "code",
   "execution_count": 80,
   "metadata": {
    "colab": {
     "base_uri": "https://localhost:8080/"
    },
    "id": "0sexhzb1FObD",
    "outputId": "437eb384-7e5c-4fe8-bd88-af48f83f6b74"
   },
   "outputs": [
    {
     "name": "stdout",
     "output_type": "stream",
     "text": [
      "310/310 [==============================] - 45s 144ms/step - loss: 0.0984 - accuracy: 0.9708\n"
     ]
    }
   ],
   "source": [
    "test=model.evaluate(padd_X_test, Y_test)"
   ]
  },
  {
   "cell_type": "code",
   "execution_count": 81,
   "metadata": {
    "colab": {
     "base_uri": "https://localhost:8080/"
    },
    "id": "VZHn2eUPDzEJ",
    "outputId": "4527b009-e4b7-464e-9862-7dc46042413b"
   },
   "outputs": [
    {
     "name": "stdout",
     "output_type": "stream",
     "text": [
      "Testing accuracy : 0.9707573056221008\n",
      "Testing loss : 0.0983775407075882\n"
     ]
    }
   ],
   "source": [
    "print(\"Testing accuracy :\",test[1])\n",
    "print(\"Testing loss :\",test[0])"
   ]
  },
  {
   "cell_type": "code",
   "execution_count": 82,
   "metadata": {
    "colab": {
     "base_uri": "https://localhost:8080/",
     "height": 458
    },
    "id": "8xKWDTrJ1pUh",
    "outputId": "dd3e1c2a-0098-4b63-ce1a-76663ff1b080"
   },
   "outputs": [
    {
     "data": {
      "image/png": "[encoded data removed]",
      "text/plain": [
       "<Figure size 864x504 with 1 Axes>"
      ]
     },
     "metadata": {
      "needs_background": "light"
     },
     "output_type": "display_data"
    }
   ],
   "source": [
    "plt.figure(figsize=(12,7))\n",
    "plt.plot(train_model.history['accuracy'],label='Training accuracy',color='red')\n",
    "plt.plot(train_model.history['val_accuracy'],label='Testing accuracy',color='green')\n",
    "plt.legend()\n",
    "plt.xlabel('No of Epoch')\n",
    "plt.ylabel('Accuracy')\n",
    "plt.title(\"Accuracy vs Epoch\")\n",
    "plt.show()"
   ]
  },
  {
   "cell_type": "code",
   "execution_count": 83,
   "metadata": {
    "colab": {
     "base_uri": "https://localhost:8080/",
     "height": 458
    },
    "id": "ocf2Wckp1pcQ",
    "outputId": "4b807167-e422-40ab-cfef-634206a6ef67"
   },
   "outputs": [
    {
     "data": {
      "image/png": "[encoded data removed]",
      "text/plain": [
       "<Figure size 864x504 with 1 Axes>"
      ]
     },
     "metadata": {
      "needs_background": "light"
     },
     "output_type": "display_data"
    }
   ],
   "source": [
    "plt.figure(figsize=(12,7))\n",
    "plt.plot(train_model.history['loss'],label='Training loss',color='red')\n",
    "plt.plot(train_model.history['val_loss'],label='Testing loss',color='green')\n",
    "plt.legend()\n",
    "plt.xlabel('No of Epoch')\n",
    "plt.ylabel('Loss')\n",
    "plt.title(\"Loss vs Epoch\")\n",
    "plt.show()"
   ]
  },
  {
   "cell_type": "code",
   "execution_count": 84,
   "metadata": {
    "id": "lrSY7qBf1pfS"
   },
   "outputs": [],
   "source": [
    "y_pred_prob=model.predict(padd_X_test)\n",
    "y_pred=np.where(y_pred_prob>0.5,1,0)"
   ]
  },
  {
   "cell_type": "code",
   "execution_count": 85,
   "metadata": {
    "id": "waQotdyZMcnn"
   },
   "outputs": [],
   "source": [
    "y_pre = y_pred.flatten()"
   ]
  },
  {
   "cell_type": "code",
   "execution_count": 86,
   "metadata": {
    "colab": {
     "base_uri": "https://localhost:8080/"
    },
    "id": "fnrVVXrvNSX1",
    "outputId": "1efca801-d2ed-489f-fe73-5caea2d79878"
   },
   "outputs": [
    {
     "data": {
      "text/plain": [
       "array([1, 1, 0, ..., 0, 1, 1])"
      ]
     },
     "execution_count": 86,
     "metadata": {},
     "output_type": "execute_result"
    }
   ],
   "source": [
    "y_pre"
   ]
  },
  {
   "cell_type": "code",
   "execution_count": 87,
   "metadata": {
    "id": "nG3QVCKDK9Zv"
   },
   "outputs": [],
   "source": [
    "result_df1=pd.DataFrame({\"Test_Review\":X_test,\"Prob\":y_pred_prob.flatten(),\"Predict_Sentiment\":y_pred.flatten(),\"Actual_Sentiment\":Y_test})"
   ]
  },
  {
   "cell_type": "code",
   "execution_count": 88,
   "metadata": {
    "colab": {
     "base_uri": "https://localhost:8080/",
     "height": 424
    },
    "id": "qxj4jI5kL7k2",
    "outputId": "120fb862-b081-4f0b-f096-fd08413f11e5"
   },
   "outputs": [
    {
     "data": {
      "text/html": [
       "\n",
       "  <div id=\"df-f8fad48a-96a3-416b-ad8c-5aa737e58d53\">\n",
       "    <div class=\"colab-df-container\">\n",
       "      <div>\n",
       "<style scoped>\n",
       "    .dataframe tbody tr th:only-of-type {\n",
       "        vertical-align: middle;\n",
       "    }\n",
       "\n",
       "    .dataframe tbody tr th {\n",
       "        vertical-align: top;\n",
       "    }\n",
       "\n",
       "    .dataframe thead th {\n",
       "        text-align: right;\n",
       "    }\n",
       "</style>\n",
       "<table border=\"1\" class=\"dataframe\">\n",
       "  <thead>\n",
       "    <tr style=\"text-align: right;\">\n",
       "      <th></th>\n",
       "      <th>Test_Review</th>\n",
       "      <th>Prob</th>\n",
       "      <th>Predict_Sentiment</th>\n",
       "      <th>Actual_Sentiment</th>\n",
       "    </tr>\n",
       "  </thead>\n",
       "  <tbody>\n",
       "    <tr>\n",
       "      <th>2439</th>\n",
       "      <td>anyone moderate sensibility moderate feeling h...</td>\n",
       "      <td>0.999893</td>\n",
       "      <td>1</td>\n",
       "      <td>1</td>\n",
       "    </tr>\n",
       "    <tr>\n",
       "      <th>13375</th>\n",
       "      <td>reunion team great episode justice hesitation ...</td>\n",
       "      <td>0.999990</td>\n",
       "      <td>1</td>\n",
       "      <td>1</td>\n",
       "    </tr>\n",
       "    <tr>\n",
       "      <th>28402</th>\n",
       "      <td>proof not everything tarantino touch turn gold...</td>\n",
       "      <td>0.002016</td>\n",
       "      <td>0</td>\n",
       "      <td>0</td>\n",
       "    </tr>\n",
       "    <tr>\n",
       "      <th>49463</th>\n",
       "      <td>watched last night tv hbo admit tension unsurp...</td>\n",
       "      <td>0.999985</td>\n",
       "      <td>1</td>\n",
       "      <td>1</td>\n",
       "    </tr>\n",
       "    <tr>\n",
       "      <th>30786</th>\n",
       "      <td>tried not not like slasher not not like try en...</td>\n",
       "      <td>0.000281</td>\n",
       "      <td>0</td>\n",
       "      <td>0</td>\n",
       "    </tr>\n",
       "    <tr>\n",
       "      <th>...</th>\n",
       "      <td>...</td>\n",
       "      <td>...</td>\n",
       "      <td>...</td>\n",
       "      <td>...</td>\n",
       "    </tr>\n",
       "    <tr>\n",
       "      <th>2464</th>\n",
       "      <td>slick romanticizing sexual exploitation neworl...</td>\n",
       "      <td>0.001471</td>\n",
       "      <td>0</td>\n",
       "      <td>0</td>\n",
       "    </tr>\n",
       "    <tr>\n",
       "      <th>30925</th>\n",
       "      <td>not good still like cat clovis gold jar well p...</td>\n",
       "      <td>0.999968</td>\n",
       "      <td>1</td>\n",
       "      <td>1</td>\n",
       "    </tr>\n",
       "    <tr>\n",
       "      <th>48248</th>\n",
       "      <td>kid always used babysat always used rent see c...</td>\n",
       "      <td>0.000598</td>\n",
       "      <td>0</td>\n",
       "      <td>0</td>\n",
       "    </tr>\n",
       "    <tr>\n",
       "      <th>28840</th>\n",
       "      <td>victor mature barely civilized mostly control ...</td>\n",
       "      <td>0.966231</td>\n",
       "      <td>1</td>\n",
       "      <td>1</td>\n",
       "    </tr>\n",
       "    <tr>\n",
       "      <th>41428</th>\n",
       "      <td>interesting fact metaphysics platon aristotele...</td>\n",
       "      <td>0.961106</td>\n",
       "      <td>1</td>\n",
       "      <td>1</td>\n",
       "    </tr>\n",
       "  </tbody>\n",
       "</table>\n",
       "<p>9917 rows × 4 columns</p>\n",
       "</div>\n",
       "      <button class=\"colab-df-convert\" onclick=\"convertToInteractive('df-f8fad48a-96a3-416b-ad8c-5aa737e58d53')\"\n",
       "              title=\"Convert this dataframe to an interactive table.\"\n",
       "              style=\"display:none;\">\n",
       "        \n",
       "  <svg xmlns=\"http://www.w3.org/2000/svg\" height=\"24px\"viewBox=\"0 0 24 24\"\n",
       "       width=\"24px\">\n",
       "    <path d=\"M0 0h24v24H0V0z\" fill=\"none\"/>\n",
       "    <path d=\"M18.56 5.44l.94 2.06.94-2.06 2.06-.94-2.06-.94-.94-2.06-.94 2.06-2.06.94zm-11 1L8.5 8.5l.94-2.06 2.06-.94-2.06-.94L8.5 2.5l-.94 2.06-2.06.94zm10 10l.94 2.06.94-2.06 2.06-.94-2.06-.94-.94-2.06-.94 2.06-2.06.94z\"/><path d=\"M17.41 7.96l-1.37-1.37c-.4-.4-.92-.59-1.43-.59-.52 0-1.04.2-1.43.59L10.3 9.45l-7.72 7.72c-.78.78-.78 2.05 0 2.83L4 21.41c.39.39.9.59 1.41.59.51 0 1.02-.2 1.41-.59l7.78-7.78 2.81-2.81c.8-.78.8-2.07 0-2.86zM5.41 20L4 18.59l7.72-7.72 1.47 1.35L5.41 20z\"/>\n",
       "  </svg>\n",
       "      </button>\n",
       "      \n",
       "  <style>\n",
       "    .colab-df-container {\n",
       "      display:flex;\n",
       "      flex-wrap:wrap;\n",
       "      gap: 12px;\n",
       "    }\n",
       "\n",
       "    .colab-df-convert {\n",
       "      background-color: #E8F0FE;\n",
       "      border: none;\n",
       "      border-radius: 50%;\n",
       "      cursor: pointer;\n",
       "      display: none;\n",
       "      fill: #1967D2;\n",
       "      height: 32px;\n",
       "      padding: 0 0 0 0;\n",
       "      width: 32px;\n",
       "    }\n",
       "\n",
       "    .colab-df-convert:hover {\n",
       "      background-color: #E2EBFA;\n",
       "      box-shadow: 0px 1px 2px rgba(60, 64, 67, 0.3), 0px 1px 3px 1px rgba(60, 64, 67, 0.15);\n",
       "      fill: #174EA6;\n",
       "    }\n",
       "\n",
       "    [theme=dark] .colab-df-convert {\n",
       "      background-color: #3B4455;\n",
       "      fill: #D2E3FC;\n",
       "    }\n",
       "\n",
       "    [theme=dark] .colab-df-convert:hover {\n",
       "      background-color: #434B5C;\n",
       "      box-shadow: 0px 1px 3px 1px rgba(0, 0, 0, 0.15);\n",
       "      filter: drop-shadow(0px 1px 2px rgba(0, 0, 0, 0.3));\n",
       "      fill: #FFFFFF;\n",
       "    }\n",
       "  </style>\n",
       "\n",
       "      <script>\n",
       "        const buttonEl =\n",
       "          document.querySelector('#df-f8fad48a-96a3-416b-ad8c-5aa737e58d53 button.colab-df-convert');\n",
       "        buttonEl.style.display =\n",
       "          google.colab.kernel.accessAllowed ? 'block' : 'none';\n",
       "\n",
       "        async function convertToInteractive(key) {\n",
       "          const element = document.querySelector('#df-f8fad48a-96a3-416b-ad8c-5aa737e58d53');\n",
       "          const dataTable =\n",
       "            await google.colab.kernel.invokeFunction('convertToInteractive',\n",
       "                                                     [key], {});\n",
       "          if (!dataTable) return;\n",
       "\n",
       "          const docLinkHtml = 'Like what you see? Visit the ' +\n",
       "            '<a target=\"_blank\" href=https://colab.research.google.com/notebooks/data_table.ipynb>data table notebook</a>'\n",
       "            + ' to learn more about interactive tables.';\n",
       "          element.innerHTML = '';\n",
       "          dataTable['output_type'] = 'display_data';\n",
       "          await google.colab.output.renderOutput(dataTable, element);\n",
       "          const docLink = document.createElement('div');\n",
       "          docLink.innerHTML = docLinkHtml;\n",
       "          element.appendChild(docLink);\n",
       "        }\n",
       "      </script>\n",
       "    </div>\n",
       "  </div>\n",
       "  "
      ],
      "text/plain": [
       "                                             Test_Review      Prob  \\\n",
       "2439   anyone moderate sensibility moderate feeling h...  0.999893   \n",
       "13375  reunion team great episode justice hesitation ...  0.999990   \n",
       "28402  proof not everything tarantino touch turn gold...  0.002016   \n",
       "49463  watched last night tv hbo admit tension unsurp...  0.999985   \n",
       "30786  tried not not like slasher not not like try en...  0.000281   \n",
       "...                                                  ...       ...   \n",
       "2464   slick romanticizing sexual exploitation neworl...  0.001471   \n",
       "30925  not good still like cat clovis gold jar well p...  0.999968   \n",
       "48248  kid always used babysat always used rent see c...  0.000598   \n",
       "28840  victor mature barely civilized mostly control ...  0.966231   \n",
       "41428  interesting fact metaphysics platon aristotele...  0.961106   \n",
       "\n",
       "       Predict_Sentiment  Actual_Sentiment  \n",
       "2439                   1                 1  \n",
       "13375                  1                 1  \n",
       "28402                  0                 0  \n",
       "49463                  1                 1  \n",
       "30786                  0                 0  \n",
       "...                  ...               ...  \n",
       "2464                   0                 0  \n",
       "30925                  1                 1  \n",
       "48248                  0                 0  \n",
       "28840                  1                 1  \n",
       "41428                  1                 1  \n",
       "\n",
       "[9917 rows x 4 columns]"
      ]
     },
     "execution_count": 88,
     "metadata": {},
     "output_type": "execute_result"
    }
   ],
   "source": [
    "result_df1"
   ]
  },
  {
   "cell_type": "code",
   "execution_count": 89,
   "metadata": {
    "colab": {
     "base_uri": "https://localhost:8080/"
    },
    "id": "n9sgtGgM1pjW",
    "outputId": "e4adc7e7-75a9-438e-ebb1-5f31f0e9f593"
   },
   "outputs": [
    {
     "name": "stdout",
     "output_type": "stream",
     "text": [
      "              precision    recall  f1-score   support\n",
      "\n",
      "           0       0.96      0.98      0.97      4935\n",
      "           1       0.98      0.96      0.97      4982\n",
      "\n",
      "    accuracy                           0.97      9917\n",
      "   macro avg       0.97      0.97      0.97      9917\n",
      "weighted avg       0.97      0.97      0.97      9917\n",
      "\n",
      "[[4844   91]\n",
      " [ 199 4783]]\n"
     ]
    }
   ],
   "source": [
    "print(classification_report(Y_test,y_pred))\n",
    "print(confusion_matrix(Y_test,y_pred))"
   ]
  },
  {
   "cell_type": "code",
   "execution_count": 90,
   "metadata": {
    "colab": {
     "base_uri": "https://localhost:8080/",
     "height": 334
    },
    "id": "3HdVzO7kEyxj",
    "outputId": "beaf6918-a30f-4a9b-e2f9-4a420d8977e0"
   },
   "outputs": [
    {
     "data": {
      "image/png": "[encoded data removed]",
      "text/plain": [
       "<Figure size 504x360 with 2 Axes>"
      ]
     },
     "metadata": {
      "needs_background": "light"
     },
     "output_type": "display_data"
    }
   ],
   "source": [
    "plt.figure(figsize=(7,5))\n",
    "sns.heatmap(confusion_matrix(Y_test,y_pred),annot=True,cmap=\"OrRd_r\",\n",
    "            fmt=\"d\",cbar=True,\n",
    "            annot_kws={\"fontsize\":15},\n",
    "            xticklabels=[\"Negative Review 0\",\"Positive Reviews 1\"],yticklabels=[\"Negative Review 0\",\"Positive Reviews 1\"])\n",
    "plt.ylabel(\"Actual Result\")\n",
    "plt.xlabel(\"Predicted Result\")\n",
    "plt.show()"
   ]
  },
  {
   "cell_type": "markdown",
   "metadata": {
    "id": "1mbipfMVMeQk"
   },
   "source": [
    "### Model Deployment"
   ]
  },
  {
   "cell_type": "code",
   "execution_count": 109,
   "metadata": {
    "id": "wfWYXZeO6Ue6"
   },
   "outputs": [],
   "source": [
    "#save model architechure and weights in single file\n",
    "model.save(\"model.h5\")"
   ]
  },
  {
   "cell_type": "code",
   "execution_count": 107,
   "metadata": {
    "id": "nJvfIWIW6Ue7"
   },
   "outputs": [],
   "source": [
    "import pickle\n",
    "#save tokenize object\n",
    "with open('tokenizer.pickle', 'wb') as handle:\n",
    "    pickle.dump(tok, handle, protocol=pickle.HIGHEST_PROTOCOL)"
   ]
  },
  {
   "cell_type": "code",
   "execution_count": 110,
   "metadata": {
    "id": "C9o_g72fKIVY"
   },
   "outputs": [],
   "source": [
    "from tensorflow.keras.models import load_model"
   ]
  },
  {
   "cell_type": "code",
   "execution_count": 111,
   "metadata": {
    "id": "y2VB7ZS3KIae"
   },
   "outputs": [],
   "source": [
    "model = load_model('model.h5')"
   ]
  },
  {
   "cell_type": "code",
   "execution_count": 112,
   "metadata": {
    "colab": {
     "base_uri": "https://localhost:8080/"
    },
    "id": "Ta3OBgPrKIdh",
    "outputId": "e9a61cd7-c87a-4222-97de-a35d46b45c42"
   },
   "outputs": [
    {
     "name": "stdout",
     "output_type": "stream",
     "text": [
      "Model: \"sequential\"\n",
      "_________________________________________________________________\n",
      " Layer (type)                Output Shape              Param #   \n",
      "=================================================================\n",
      " embedding (Embedding)       (None, 295, 50)           500000    \n",
      "                                                                 \n",
      " lstm (LSTM)                 (None, 295, 128)          91648     \n",
      "                                                                 \n",
      " lstm_1 (LSTM)               (None, 64)                49408     \n",
      "                                                                 \n",
      " dense (Dense)               (None, 32)                2080      \n",
      "                                                                 \n",
      " dense_1 (Dense)             (None, 16)                528       \n",
      "                                                                 \n",
      " dense_2 (Dense)             (None, 1)                 17        \n",
      "                                                                 \n",
      "=================================================================\n",
      "Total params: 643,681\n",
      "Trainable params: 643,681\n",
      "Non-trainable params: 0\n",
      "_________________________________________________________________\n"
     ]
    }
   ],
   "source": [
    "mdl.summary()"
   ]
  },
  {
   "cell_type": "code",
   "execution_count": null,
   "metadata": {
    "id": "szK9SssuKXCf"
   },
   "outputs": [],
   "source": [
    "y_prob=model.predict(padd_X_test)"
   ]
  },
  {
   "cell_type": "code",
   "execution_count": 150,
   "metadata": {
    "id": "O7PP3R76N4Om"
   },
   "outputs": [],
   "source": [
    "text=\"bad \""
   ]
  },
  {
   "cell_type": "code",
   "execution_count": 151,
   "metadata": {
    "colab": {
     "base_uri": "https://localhost:8080/",
     "height": 35
    },
    "id": "esm76StSOQk1",
    "outputId": "4bc1f860-a461-4bcb-9bfe-c52ee30b0242"
   },
   "outputs": [
    {
     "data": {
      "application/vnd.google.colaboratory.intrinsic+json": {
       "type": "string"
      },
      "text/plain": [
       "'bad'"
      ]
     },
     "execution_count": 151,
     "metadata": {},
     "output_type": "execute_result"
    }
   ],
   "source": [
    "text=remove_urls(text)\n",
    "text=remove_emails(text)\n",
    "text=remove_numbers(text)\n",
    "text=remove_html(text)\n",
    "text= decontraction(text)\n",
    "text=clean_text(text)\n",
    "text"
   ]
  },
  {
   "cell_type": "code",
   "execution_count": 152,
   "metadata": {
    "id": "8wV-5W7eOQp6"
   },
   "outputs": [],
   "source": [
    "tok_text = tok.texts_to_sequences([text])"
   ]
  },
  {
   "cell_type": "code",
   "execution_count": 153,
   "metadata": {
    "colab": {
     "base_uri": "https://localhost:8080/"
    },
    "id": "QLAbWyeAQKbd",
    "outputId": "b5e29311-30f5-40ce-a4fa-bb51a968ff4f"
   },
   "outputs": [
    {
     "data": {
      "text/plain": [
       "[[17]]"
      ]
     },
     "execution_count": 153,
     "metadata": {},
     "output_type": "execute_result"
    }
   ],
   "source": [
    "tok_text"
   ]
  },
  {
   "cell_type": "code",
   "execution_count": 154,
   "metadata": {
    "id": "VlWGfna8OQsa"
   },
   "outputs": [],
   "source": [
    "padd_tok_text = sequence.pad_sequences(tok_text, maxlen=max_len)"
   ]
  },
  {
   "cell_type": "code",
   "execution_count": 155,
   "metadata": {
    "colab": {
     "base_uri": "https://localhost:8080/"
    },
    "id": "NEIxpMesPrNe",
    "outputId": "2b1e4445-b3d5-4dea-efe7-b2111fdc9235"
   },
   "outputs": [
    {
     "data": {
      "text/plain": [
       "array([[ 0,  0,  0,  0,  0,  0,  0,  0,  0,  0,  0,  0,  0,  0,  0,  0,\n",
       "         0,  0,  0,  0,  0,  0,  0,  0,  0,  0,  0,  0,  0,  0,  0,  0,\n",
       "         0,  0,  0,  0,  0,  0,  0,  0,  0,  0,  0,  0,  0,  0,  0,  0,\n",
       "         0,  0,  0,  0,  0,  0,  0,  0,  0,  0,  0,  0,  0,  0,  0,  0,\n",
       "         0,  0,  0,  0,  0,  0,  0,  0,  0,  0,  0,  0,  0,  0,  0,  0,\n",
       "         0,  0,  0,  0,  0,  0,  0,  0,  0,  0,  0,  0,  0,  0,  0,  0,\n",
       "         0,  0,  0,  0,  0,  0,  0,  0,  0,  0,  0,  0,  0,  0,  0,  0,\n",
       "         0,  0,  0,  0,  0,  0,  0,  0,  0,  0,  0,  0,  0,  0,  0,  0,\n",
       "         0,  0,  0,  0,  0,  0,  0,  0,  0,  0,  0,  0,  0,  0,  0,  0,\n",
       "         0,  0,  0,  0,  0,  0,  0,  0,  0,  0,  0,  0,  0,  0,  0,  0,\n",
       "         0,  0,  0,  0,  0,  0,  0,  0,  0,  0,  0,  0,  0,  0,  0,  0,\n",
       "         0,  0,  0,  0,  0,  0,  0,  0,  0,  0,  0,  0,  0,  0,  0,  0,\n",
       "         0,  0,  0,  0,  0,  0,  0,  0,  0,  0,  0,  0,  0,  0,  0,  0,\n",
       "         0,  0,  0,  0,  0,  0,  0,  0,  0,  0,  0,  0,  0,  0,  0,  0,\n",
       "         0,  0,  0,  0,  0,  0,  0,  0,  0,  0,  0,  0,  0,  0,  0,  0,\n",
       "         0,  0,  0,  0,  0,  0,  0,  0,  0,  0,  0,  0,  0,  0,  0,  0,\n",
       "         0,  0,  0,  0,  0,  0,  0,  0,  0,  0,  0,  0,  0,  0,  0,  0,\n",
       "         0,  0,  0,  0,  0,  0,  0,  0,  0,  0,  0,  0,  0,  0,  0,  0,\n",
       "         0,  0,  0,  0,  0,  0, 17]], dtype=int32)"
      ]
     },
     "execution_count": 155,
     "metadata": {},
     "output_type": "execute_result"
    }
   ],
   "source": [
    "padd_tok_text"
   ]
  },
  {
   "cell_type": "code",
   "execution_count": 156,
   "metadata": {
    "colab": {
     "base_uri": "https://localhost:8080/"
    },
    "id": "oJlwm9GiPrUr",
    "outputId": "ce99fbcf-9d06-45aa-a669-aae6ada1144c"
   },
   "outputs": [
    {
     "data": {
      "text/plain": [
       "array([[0.51938194]], dtype=float32)"
      ]
     },
     "execution_count": 156,
     "metadata": {},
     "output_type": "execute_result"
    }
   ],
   "source": [
    "mdl.predict(padd_tok_text)"
   ]
  }
 ],
 "metadata": {
  "colab": {
   "collapsed_sections": [],
   "provenance": []
  },
  "kernelspec": {
   "display_name": "Python 3 (ipykernel)",
   "language": "python",
   "name": "python3"
  },
  "language_info": {
   "codemirror_mode": {
    "name": "ipython",
    "version": 3
   },
   "file_extension": ".py",
   "mimetype": "text/x-python",
   "name": "python",
   "nbconvert_exporter": "python",
   "pygments_lexer": "ipython3",
   "version": "3.9.12"
  }
 },
 "nbformat": 4,
 "nbformat_minor": 1
}
